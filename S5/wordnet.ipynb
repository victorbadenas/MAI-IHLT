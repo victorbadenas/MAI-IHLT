{
 "cells": [
  {
   "cell_type": "markdown",
   "metadata": {},
   "source": [
    "## WordNet reader"
   ]
  },
  {
   "cell_type": "code",
   "execution_count": 1,
   "metadata": {},
   "outputs": [],
   "source": [
    "from nltk.corpus import wordnet as wn"
   ]
  },
  {
   "cell_type": "markdown",
   "metadata": {},
   "source": [
    "### synsets"
   ]
  },
  {
   "cell_type": "code",
   "execution_count": 2,
   "metadata": {},
   "outputs": [
    {
     "data": {
      "text/plain": [
       "[Synset('age.n.01'),\n",
       " Synset('historic_period.n.01'),\n",
       " Synset('age.n.03'),\n",
       " Synset('long_time.n.01'),\n",
       " Synset('old_age.n.01')]"
      ]
     },
     "execution_count": 2,
     "metadata": {},
     "output_type": "execute_result"
    }
   ],
   "source": [
    "wn.synsets('age','n')"
   ]
  },
  {
   "cell_type": "code",
   "execution_count": 3,
   "metadata": {},
   "outputs": [
    {
     "data": {
      "text/plain": [
       "Synset('age.n.01')"
      ]
     },
     "execution_count": 3,
     "metadata": {},
     "output_type": "execute_result"
    }
   ],
   "source": [
    "age = wn.synset('age.n.1')\n",
    "age"
   ]
  },
  {
   "cell_type": "markdown",
   "metadata": {},
   "source": [
    "### definitions, examples and lemmas"
   ]
  },
  {
   "cell_type": "code",
   "execution_count": 4,
   "metadata": {},
   "outputs": [
    {
     "data": {
      "text/plain": [
       "'how long something has existed'"
      ]
     },
     "execution_count": 4,
     "metadata": {},
     "output_type": "execute_result"
    }
   ],
   "source": [
    "age.definition()"
   ]
  },
  {
   "cell_type": "code",
   "execution_count": 5,
   "metadata": {},
   "outputs": [
    {
     "data": {
      "text/plain": [
       "['it was replaced because of its age']"
      ]
     },
     "execution_count": 5,
     "metadata": {},
     "output_type": "execute_result"
    }
   ],
   "source": [
    "age.examples()"
   ]
  },
  {
   "cell_type": "code",
   "execution_count": 6,
   "metadata": {},
   "outputs": [
    {
     "data": {
      "text/plain": [
       "['historic_period', 'age']"
      ]
     },
     "execution_count": 6,
     "metadata": {},
     "output_type": "execute_result"
    }
   ],
   "source": [
    "ls = wn.synsets('age','n')\n",
    "ll = ls[1].lemmas()\n",
    "[lemma.name() for lemma in ll]"
   ]
  },
  {
   "cell_type": "markdown",
   "metadata": {},
   "source": [
    "### hyponyms and hypernyms"
   ]
  },
  {
   "cell_type": "code",
   "execution_count": 7,
   "metadata": {},
   "outputs": [
    {
     "data": {
      "text/plain": [
       "[Synset('bone_age.n.01'),\n",
       " Synset('chronological_age.n.01'),\n",
       " Synset('developmental_age.n.01'),\n",
       " Synset('fetal_age.n.01'),\n",
       " Synset('mental_age.n.01'),\n",
       " Synset('newness.n.01'),\n",
       " Synset('oldness.n.01'),\n",
       " Synset('oldness.n.02'),\n",
       " Synset('youngness.n.01')]"
      ]
     },
     "execution_count": 7,
     "metadata": {},
     "output_type": "execute_result"
    }
   ],
   "source": [
    "age.hyponyms()"
   ]
  },
  {
   "cell_type": "code",
   "execution_count": 8,
   "metadata": {},
   "outputs": [
    {
     "data": {
      "text/plain": [
       "[Synset('property.n.02')]"
      ]
     },
     "execution_count": 8,
     "metadata": {},
     "output_type": "execute_result"
    }
   ],
   "source": [
    "age.hypernyms()"
   ]
  },
  {
   "cell_type": "code",
   "execution_count": 9,
   "metadata": {},
   "outputs": [
    {
     "data": {
      "text/plain": [
       "[Synset('entity.n.01')]"
      ]
     },
     "execution_count": 9,
     "metadata": {},
     "output_type": "execute_result"
    }
   ],
   "source": [
    "age.root_hypernyms()"
   ]
  },
  {
   "cell_type": "code",
   "execution_count": 10,
   "metadata": {},
   "outputs": [
    {
     "data": {
      "text/plain": [
       "[Synset('property.n.02'),\n",
       " Synset('attribute.n.02'),\n",
       " Synset('abstraction.n.06'),\n",
       " Synset('entity.n.01')]"
      ]
     },
     "execution_count": 10,
     "metadata": {},
     "output_type": "execute_result"
    }
   ],
   "source": [
    "hyper = lambda s: s.hypernyms()\n",
    "list(age.closure(hyper))"
   ]
  },
  {
   "cell_type": "code",
   "execution_count": 11,
   "metadata": {},
   "outputs": [
    {
     "data": {
      "text/plain": [
       "[Synset('age.n.01'),\n",
       " [Synset('property.n.02'),\n",
       "  [Synset('attribute.n.02'),\n",
       "   [Synset('abstraction.n.06'), [Synset('entity.n.01')]]]]]"
      ]
     },
     "execution_count": 11,
     "metadata": {},
     "output_type": "execute_result"
    }
   ],
   "source": [
    "age.tree(hyper)"
   ]
  },
  {
   "cell_type": "markdown",
   "metadata": {},
   "source": [
    "### antonyms"
   ]
  },
  {
   "cell_type": "code",
   "execution_count": 12,
   "metadata": {},
   "outputs": [
    {
     "data": {
      "text/plain": [
       "[Lemma('bad.a.01.bad')]"
      ]
     },
     "execution_count": 12,
     "metadata": {},
     "output_type": "execute_result"
    }
   ],
   "source": [
    "good = wn.synset('good.a.01')\n",
    "good.lemmas()[0].antonyms()"
   ]
  },
  {
   "cell_type": "markdown",
   "metadata": {},
   "source": [
    "### all lexical relations"
   ]
  },
  {
   "cell_type": "code",
   "execution_count": 18,
   "metadata": {},
   "outputs": [
    {
     "data": {
      "text/plain": [
       "{'attributes': [Synset('immature.a.04'),\n",
       "  Synset('mature.a.03'),\n",
       "  Synset('new.a.01'),\n",
       "  Synset('old.a.01'),\n",
       "  Synset('old.a.02'),\n",
       "  Synset('young.a.01')],\n",
       " 'hypernyms': [Synset('property.n.02')],\n",
       " 'hyponyms': [Synset('bone_age.n.01'),\n",
       "  Synset('chronological_age.n.01'),\n",
       "  Synset('developmental_age.n.01'),\n",
       "  Synset('fetal_age.n.01'),\n",
       "  Synset('mental_age.n.01'),\n",
       "  Synset('newness.n.01'),\n",
       "  Synset('oldness.n.01'),\n",
       "  Synset('oldness.n.02'),\n",
       "  Synset('youngness.n.01')]}"
      ]
     },
     "execution_count": 18,
     "metadata": {},
     "output_type": "execute_result"
    }
   ],
   "source": [
    "def getRelValue(name):\n",
    "    method = getattr(age, rel)\n",
    "    return method()\n",
    "    \n",
    "lexRels = ['hypernyms', 'instance_hypernyms', 'hyponyms', 'instance_hyponyms', \\\n",
    "           'member_holonyms', 'substance_holonyms', 'part_holonyms', \\\n",
    "           'member_meronyms', 'substance_meronyms', 'part_meronyms', \\\n",
    "           'attributes', 'entailments', 'causes', 'also_sees', 'verb_groups', 'similar_tos']\n",
    "age = wn.synset('age.n.01')\n",
    "\n",
    "results = {}\n",
    "for rel in lexRels:\n",
    "    val = getRelValue(rel)\n",
    "    if val != []:\n",
    "        results[rel] = val\n",
    "results"
   ]
  },
  {
   "cell_type": "code",
   "execution_count": 19,
   "metadata": {},
   "outputs": [
    {
     "name": "stdout",
     "output_type": "stream",
     "text": [
      "hyponyms bone_age.n.01\n",
      "hyponyms chronological_age.n.01\n",
      "hyponyms developmental_age.n.01\n",
      "hyponyms fetal_age.n.01\n",
      "hyponyms mental_age.n.01\n",
      "hyponyms newness.n.01\n",
      "hyponyms oldness.n.01\n",
      "hyponyms oldness.n.02\n",
      "hyponyms youngness.n.01\n",
      "hypernyms property.n.02\n",
      "attributes immature.a.04\n",
      "attributes mature.a.03\n",
      "attributes new.a.01\n",
      "attributes old.a.01\n",
      "attributes old.a.02\n",
      "attributes young.a.01\n"
     ]
    }
   ],
   "source": [
    "for rel in results:\n",
    "    for s in results[rel]:\n",
    "        print(rel, s.name())"
   ]
  }
 ],
 "metadata": {
  "kernelspec": {
   "display_name": "Python 3",
   "language": "python",
   "name": "python3"
  },
  "language_info": {
   "codemirror_mode": {
    "name": "ipython",
    "version": 3
   },
   "file_extension": ".py",
   "mimetype": "text/x-python",
   "name": "python",
   "nbconvert_exporter": "python",
   "pygments_lexer": "ipython3",
   "version": "3.5.2"
  }
 },
 "nbformat": 4,
 "nbformat_minor": 2
}
