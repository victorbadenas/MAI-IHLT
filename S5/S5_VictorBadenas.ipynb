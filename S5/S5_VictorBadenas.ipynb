{
 "metadata": {
  "language_info": {
   "codemirror_mode": {
    "name": "ipython",
    "version": 3
   },
   "file_extension": ".py",
   "mimetype": "text/x-python",
   "name": "python",
   "nbconvert_exporter": "python",
   "pygments_lexer": "ipython3",
   "version": "3.7.9-final"
  },
  "orig_nbformat": 2,
  "kernelspec": {
   "name": "Python 3.7.9 64-bit ('IHLT3.7': conda)",
   "display_name": "Python 3.7.9 64-bit ('IHLT3.7': conda)",
   "metadata": {
    "interpreter": {
     "hash": "589da564c3c34ee97637a5e347a7928039a22cef64d507784db9da12a80e8881"
    }
   }
  }
 },
 "nbformat": 4,
 "nbformat_minor": 2,
 "cells": [
  {
   "source": [
    "# Lab.5: Lexical semantics\n",
    "## Introduction to Human Language Technologies\n",
    "### Victor Badenas Crespo\n",
    "\n",
    "***"
   ],
   "cell_type": "markdown",
   "metadata": {}
  },
  {
   "source": [
    "### Statement:\n",
    "\n",
    "Given the following (lemma, category) pairs:\n",
    "```python\n",
    "(’the’,’DT’), (’man’,’NN’), (’swim’,’VB’), (’with’, ’PR’), (’a’, ’DT’),\n",
    "(’girl’,’NN’), (’and’, ’CC’), (’a’, ’DT’), (’boy’, ’NN’), (’whilst’, ’PR’),\n",
    "(’the’, ’DT’), (’woman’, ’NN’), (’walk’, ’VB’)\n",
    "```\n",
    "\n",
    "- For each pair, when possible, print their most frequent WordNet synset, their corresponding least common subsumer (LCS) and their similarity value, using the following functions:\n",
    "\n",
    "    - Path Similarity\n",
    "\n",
    "    - Leacock-Chodorow Similarity\n",
    "\n",
    "    - Wu-Palmer Similarity\n",
    "\n",
    "    - Lin Similarity\n",
    "\n",
    "- Normalize similarity values when necessary. What similarity seems better?"
   ],
   "cell_type": "markdown",
   "metadata": {}
  },
  {
   "source": [
    "*** \n",
    "\n",
    "## Solution\n",
    "\n",
    "Import necessary packages and declare environment valiables."
   ],
   "cell_type": "markdown",
   "metadata": {}
  },
  {
   "cell_type": "code",
   "execution_count": 1,
   "metadata": {},
   "outputs": [
    {
     "output_type": "stream",
     "name": "stderr",
     "text": [
      "[nltk_data] Downloading package wordnet_ic to\n[nltk_data]     C:\\Users\\victo\\AppData\\Roaming\\nltk_data...\n[nltk_data]   Package wordnet_ic is already up-to-date!\n"
     ]
    }
   ],
   "source": [
    "import nltk\n",
    "import numpy as np\n",
    "from nltk.corpus import wordnet as wn\n",
    "from nltk.corpus import wordnet_ic\n",
    "nltk.download('wordnet_ic')\n",
    "\n",
    "DATA = [\n",
    "    ('the','DT'), ('man','NN'), ('swim','VB'), ('with', 'PR'), ('a', 'DT'),\n",
    "    ('girl','NN'), ('and', 'CC'), ('a', 'DT'), ('boy', 'NN'), ('whilst', 'PR'),\n",
    "    ('the', 'DT'), ('woman', 'NN'), ('walk', 'VB')\n",
    "]\n",
    "\n",
    "brownIc = wordnet_ic.ic('ic-brown.dat')\n",
    "\n",
    "FilteredData = list(filter(lambda x: x[1].lower()[0] in ('v', 'n'), DATA))"
   ]
  },
  {
   "cell_type": "code",
   "execution_count": 2,
   "metadata": {},
   "outputs": [],
   "source": [
    "synsets = list()\n",
    "for word, posTag in FilteredData:\n",
    "    posTag = posTag.lower()[0]\n",
    "    if posTag in ('n', 'v'):\n",
    "        synset = wn.synsets(word, posTag)[0]\n",
    "        synsets.append(synset)"
   ]
  },
  {
   "cell_type": "code",
   "execution_count": 4,
   "metadata": {},
   "outputs": [],
   "source": [
    "PathSimilarities = np.full((len(synsets), len(synsets)), np.nan)\n",
    "LCSimilarities = np.full((len(synsets), len(synsets)), np.nan)\n",
    "WuPalmerSimilarities = np.full((len(synsets), len(synsets)), np.nan)\n",
    "LinSimilarities = np.full((len(synsets), len(synsets)), np.nan)\n",
    "LCS = [[None for j in range(len(synsets))] for i in range(len(synsets))]\n",
    "\n",
    "for i, sourceSynset in enumerate(synsets):\n",
    "    for j, targetSynset in enumerate(synsets):\n",
    "        LCS[i][j] = sourceSynset.lowest_common_hypernyms(targetSynset)\n",
    "        if len(LCS[i][j]) > 0 and (FilteredData[i][1].lower()[0] == FilteredData[j][1].lower()[0]):\n",
    "            PathSimilarities[i, j] = sourceSynset.path_similarity(targetSynset)\n",
    "            LCSimilarities[i, j] = sourceSynset.lch_similarity(targetSynset)\n",
    "            WuPalmerSimilarities[i, j] = sourceSynset.wup_similarity(targetSynset)\n",
    "            LinSimilarities[i, j] = sourceSynset.lin_similarity(targetSynset, brownIc)\n",
    "\n",
    "LCSimilarities = LCSimilarities / np.nanmax(LCSimilarities)"
   ]
  },
  {
   "cell_type": "code",
   "execution_count": 5,
   "metadata": {},
   "outputs": [
    {
     "output_type": "stream",
     "name": "stdout",
     "text": [
      "PathSimilarities:\n[[1.                nan 0.25       0.33333333 0.33333333        nan]\n [       nan 1.                nan        nan        nan 0.33333333]\n [0.25              nan 1.         0.16666667 0.5               nan]\n [0.33333333        nan 0.16666667 1.         0.2               nan]\n [0.33333333        nan 0.5        0.2        1.                nan]\n [       nan 0.33333333        nan        nan        nan 1.        ]]\nLCSimilaities:\n[[1.                nan 0.61889718 0.69798316 0.69798316        nan]\n [       nan 0.89567543        nan        nan        nan 0.59365858]\n [0.61889718        nan 1.         0.50743174 0.80944859        nan]\n [0.69798316        nan 0.50743174 1.         0.55755332        nan]\n [0.69798316        nan 0.80944859 0.55755332 1.                nan]\n [       nan 0.59365858        nan        nan        nan 0.89567543]]\nWuPalmerSimilarities:\n[[1.                nan 0.63157895 0.66666667 0.66666667        nan]\n [       nan 1.                nan        nan        nan 0.33333333]\n [0.63157895        nan 1.         0.63157895 0.63157895        nan]\n [0.66666667        nan 0.63157895 1.         0.66666667        nan]\n [0.66666667        nan 0.94736842 0.66666667 1.                nan]\n [       nan 0.33333333        nan        nan        nan 1.        ]]\nLinSimilarities:\n[[1.                nan 0.71351112 0.72947179 0.78708414        nan]\n [       nan 1.                nan        nan        nan 0.4910052 ]\n [0.71351112        nan 1.         0.29272807 0.90677986        nan]\n [0.72947179        nan 0.29272807 1.         0.31842336        nan]\n [0.78708414        nan 0.90677986 0.31842336 1.                nan]\n [       nan 0.4910052         nan        nan        nan 1.        ]]\n"
     ]
    }
   ],
   "source": [
    "print(\"PathSimilarities:\")\n",
    "print(PathSimilarities)\n",
    "print(\"LCSimilaities:\")\n",
    "print(LCSimilarities)\n",
    "print(\"WuPalmerSimilarities:\")\n",
    "print(WuPalmerSimilarities)\n",
    "print(\"LinSimilarities:\")\n",
    "print(LinSimilarities)"
   ]
  },
  {
   "cell_type": "code",
   "execution_count": null,
   "metadata": {},
   "outputs": [],
   "source": [
    "def printSynsetDistanceMatric(synsets, LCSMatrix, distanceMatrix):\n",
    "    for i, sourceSynset in enumerate(synsets):\n",
    "        for j, targetSynset in enumerate(synsets):\n",
    "            "
   ]
  },
  {
   "source": [
    "***\n",
    "\n",
    "## Conclusions"
   ],
   "cell_type": "markdown",
   "metadata": {}
  },
  {
   "cell_type": "code",
   "execution_count": null,
   "metadata": {},
   "outputs": [],
   "source": []
  },
  {
   "source": [
    "***\n",
    "\n",
    "### End of P4"
   ],
   "cell_type": "markdown",
   "metadata": {}
  }
 ]
}