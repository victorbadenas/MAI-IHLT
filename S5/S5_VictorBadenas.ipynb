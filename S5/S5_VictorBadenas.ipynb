{
 "metadata": {
  "language_info": {
   "codemirror_mode": {
    "name": "ipython",
    "version": 3
   },
   "file_extension": ".py",
   "mimetype": "text/x-python",
   "name": "python",
   "nbconvert_exporter": "python",
   "pygments_lexer": "ipython3",
   "version": "3.7.9-final"
  },
  "orig_nbformat": 2,
  "kernelspec": {
   "name": "Python 3.7.9 64-bit ('IHLT3.7': conda)",
   "display_name": "Python 3.7.9 64-bit ('IHLT3.7': conda)",
   "metadata": {
    "interpreter": {
     "hash": "589da564c3c34ee97637a5e347a7928039a22cef64d507784db9da12a80e8881"
    }
   }
  }
 },
 "nbformat": 4,
 "nbformat_minor": 2,
 "cells": [
  {
   "source": [
    "# Lab.5: Lexical semantics\n",
    "## Introduction to Human Language Technologies\n",
    "### Victor Badenas Crespo\n",
    "\n",
    "***"
   ],
   "cell_type": "markdown",
   "metadata": {}
  },
  {
   "source": [
    "### Statement:\n",
    "\n",
    "Given the following (lemma, category) pairs:\n",
    "```python\n",
    "(’the’,’DT’), (’man’,’NN’), (’swim’,’VB’), (’with’, ’PR’), (’a’, ’DT’),\n",
    "(’girl’,’NN’), (’and’, ’CC’), (’a’, ’DT’), (’boy’, ’NN’), (’whilst’, ’PR’),\n",
    "(’the’, ’DT’), (’woman’, ’NN’), (’walk’, ’VB’)\n",
    "```\n",
    "\n",
    "- For each pair, when possible, print their most frequent WordNet synset, their corresponding least common subsumer (LCS) and their similarity value, using the following functions:\n",
    "\n",
    "    - Path Similarity\n",
    "\n",
    "    - Leacock-Chodorow Similarity\n",
    "\n",
    "    - Wu-Palmer Similarity\n",
    "\n",
    "    - Lin Similarity\n",
    "\n",
    "- Normalize similarity values when necessary. What similarity seems better?"
   ],
   "cell_type": "markdown",
   "metadata": {}
  },
  {
   "source": [
    "*** \n",
    "\n",
    "## Solution\n",
    "\n",
    "Import necessary packages and declare environment valiables."
   ],
   "cell_type": "markdown",
   "metadata": {}
  },
  {
   "cell_type": "code",
   "execution_count": 1,
   "metadata": {},
   "outputs": [
    {
     "output_type": "stream",
     "name": "stderr",
     "text": [
      "[nltk_data] Downloading package wordnet_ic to\n[nltk_data]     /Users/victor/nltk_data...\n[nltk_data]   Package wordnet_ic is already up-to-date!\n"
     ]
    }
   ],
   "source": [
    "import nltk\n",
    "import numpy as np\n",
    "from nltk.corpus import wordnet as wn\n",
    "from nltk.corpus import wordnet_ic\n",
    "nltk.download('wordnet_ic')\n",
    "\n",
    "DATA = [\n",
    "    ('the','DT'), ('man','NN'), ('swim','VB'), ('with', 'PR'), ('a', 'DT'),\n",
    "    ('girl','NN'), ('and', 'CC'), ('a', 'DT'), ('boy', 'NN'), ('whilst', 'PR'),\n",
    "    ('the', 'DT'), ('woman', 'NN'), ('walk', 'VB')\n",
    "]\n",
    "\n",
    "brownIc = wordnet_ic.ic('ic-brown.dat')\n",
    "\n",
    "FilteredData = list(filter(lambda x: x[1].lower()[0] in ('v', 'n'), DATA))"
   ]
  },
  {
   "cell_type": "code",
   "execution_count": 2,
   "metadata": {},
   "outputs": [],
   "source": [
    "synsets = list()\n",
    "for word, posTag in FilteredData:\n",
    "    posTag = posTag.lower()[0]\n",
    "    synset = wn.synsets(word, posTag)[0]\n",
    "    synsets.append(synset)"
   ]
  },
  {
   "cell_type": "code",
   "execution_count": 3,
   "metadata": {},
   "outputs": [],
   "source": [
    "PathSimilarities = np.full((len(synsets), len(synsets)), np.nan)\n",
    "LCSimilarities = np.full((len(synsets), len(synsets)), np.nan)\n",
    "WuPalmerSimilarities = np.full((len(synsets), len(synsets)), np.nan)\n",
    "LinSimilarities = np.full((len(synsets), len(synsets)), np.nan)\n",
    "LCS = [[None for j in range(len(synsets))] for i in range(len(synsets))]\n",
    "\n",
    "for i, sourceSynset in enumerate(synsets):\n",
    "    for j, targetSynset in enumerate(synsets):\n",
    "        LCS[i][j] = sourceSynset.lowest_common_hypernyms(targetSynset)\n",
    "        if len(LCS[i][j]) > 0 and (FilteredData[i][1].lower()[0] == FilteredData[j][1].lower()[0]):\n",
    "            PathSimilarities[i, j] = sourceSynset.path_similarity(targetSynset)\n",
    "            LCSimilarities[i, j] = sourceSynset.lch_similarity(targetSynset)\n",
    "            WuPalmerSimilarities[i, j] = sourceSynset.wup_similarity(targetSynset)\n",
    "            LinSimilarities[i, j] = sourceSynset.lin_similarity(targetSynset, brownIc)\n",
    "\n",
    "LCSimilarities = LCSimilarities / np.nanmax(LCSimilarities)\n",
    "PathSimilarities = np.round(PathSimilarities, 2)\n",
    "LCSimilarities = np.round(LCSimilarities, 2)\n",
    "WuPalmerSimilarities = np.round(WuPalmerSimilarities, 2)\n",
    "LinSimilarities = np.round(LinSimilarities, 2)"
   ]
  },
  {
   "cell_type": "code",
   "execution_count": 4,
   "metadata": {},
   "outputs": [
    {
     "output_type": "stream",
     "name": "stdout",
     "text": [
      "PathSimilarities:\n[[1.    nan 0.25 0.33 0.33  nan]\n [ nan 1.    nan  nan  nan 0.33]\n [0.25  nan 1.   0.17 0.5   nan]\n [0.33  nan 0.17 1.   0.2   nan]\n [0.33  nan 0.5  0.2  1.    nan]\n [ nan 0.33  nan  nan  nan 1.  ]]\nLCSimilaities:\n[[1.    nan 0.62 0.7  0.7   nan]\n [ nan 0.9   nan  nan  nan 0.59]\n [0.62  nan 1.   0.51 0.81  nan]\n [0.7   nan 0.51 1.   0.56  nan]\n [0.7   nan 0.81 0.56 1.    nan]\n [ nan 0.59  nan  nan  nan 0.9 ]]\nWuPalmerSimilarities:\n[[1.    nan 0.63 0.67 0.67  nan]\n [ nan 1.    nan  nan  nan 0.33]\n [0.63  nan 1.   0.63 0.63  nan]\n [0.67  nan 0.63 1.   0.67  nan]\n [0.67  nan 0.95 0.67 1.    nan]\n [ nan 0.33  nan  nan  nan 1.  ]]\nLinSimilarities:\n[[1.    nan 0.71 0.73 0.79  nan]\n [ nan 1.    nan  nan  nan 0.49]\n [0.71  nan 1.   0.29 0.91  nan]\n [0.73  nan 0.29 1.   0.32  nan]\n [0.79  nan 0.91 0.32 1.    nan]\n [ nan 0.49  nan  nan  nan 1.  ]]\n"
     ]
    }
   ],
   "source": [
    "print(\"PathSimilarities:\")\n",
    "print(PathSimilarities)\n",
    "print(\"LCSimilaities:\")\n",
    "print(LCSimilarities)\n",
    "print(\"WuPalmerSimilarities:\")\n",
    "print(WuPalmerSimilarities)\n",
    "print(\"LinSimilarities:\")\n",
    "print(LinSimilarities)"
   ]
  },
  {
   "cell_type": "code",
   "execution_count": 5,
   "metadata": {},
   "outputs": [],
   "source": [
    "def printSynsetDistanceMetric(synsets, LCSMatrix, distanceMatrix):\n",
    "    for i, sourceSynset in enumerate(synsets):\n",
    "        for j, targetSynset in enumerate(synsets):\n",
    "            if len(LCSMatrix[i][j]) > 0 and sourceSynset != targetSynset:\n",
    "                print(f\"{sourceSynset}, {targetSynset}:\\t LCS={LCSMatrix[i][j][0]}, distance={distanceMatrix[i,j]}\")"
   ]
  },
  {
   "cell_type": "code",
   "execution_count": 6,
   "metadata": {},
   "outputs": [
    {
     "output_type": "stream",
     "name": "stdout",
     "text": [
      "PathSimilarities:\nSynset('man.n.01'), Synset('girl.n.01'):\t LCS=Synset('adult.n.01'), distance=0.25\nSynset('man.n.01'), Synset('male_child.n.01'):\t LCS=Synset('male.n.02'), distance=0.33\nSynset('man.n.01'), Synset('woman.n.01'):\t LCS=Synset('adult.n.01'), distance=0.33\nSynset('swim.v.01'), Synset('walk.v.01'):\t LCS=Synset('travel.v.01'), distance=0.33\nSynset('girl.n.01'), Synset('man.n.01'):\t LCS=Synset('adult.n.01'), distance=0.25\nSynset('girl.n.01'), Synset('male_child.n.01'):\t LCS=Synset('person.n.01'), distance=0.17\nSynset('girl.n.01'), Synset('woman.n.01'):\t LCS=Synset('woman.n.01'), distance=0.5\nSynset('male_child.n.01'), Synset('man.n.01'):\t LCS=Synset('male.n.02'), distance=0.33\nSynset('male_child.n.01'), Synset('girl.n.01'):\t LCS=Synset('person.n.01'), distance=0.17\nSynset('male_child.n.01'), Synset('woman.n.01'):\t LCS=Synset('person.n.01'), distance=0.2\nSynset('woman.n.01'), Synset('man.n.01'):\t LCS=Synset('adult.n.01'), distance=0.33\nSynset('woman.n.01'), Synset('girl.n.01'):\t LCS=Synset('woman.n.01'), distance=0.5\nSynset('woman.n.01'), Synset('male_child.n.01'):\t LCS=Synset('person.n.01'), distance=0.2\nSynset('walk.v.01'), Synset('swim.v.01'):\t LCS=Synset('travel.v.01'), distance=0.33\n"
     ]
    }
   ],
   "source": [
    "print(\"PathSimilarities:\")\n",
    "printSynsetDistanceMetric(synsets, LCS, PathSimilarities)"
   ]
  },
  {
   "cell_type": "code",
   "execution_count": 7,
   "metadata": {},
   "outputs": [
    {
     "output_type": "stream",
     "name": "stdout",
     "text": [
      "LCSimilaities:\nSynset('man.n.01'), Synset('girl.n.01'):\t LCS=Synset('adult.n.01'), distance=0.62\nSynset('man.n.01'), Synset('male_child.n.01'):\t LCS=Synset('male.n.02'), distance=0.7\nSynset('man.n.01'), Synset('woman.n.01'):\t LCS=Synset('adult.n.01'), distance=0.7\nSynset('swim.v.01'), Synset('walk.v.01'):\t LCS=Synset('travel.v.01'), distance=0.59\nSynset('girl.n.01'), Synset('man.n.01'):\t LCS=Synset('adult.n.01'), distance=0.62\nSynset('girl.n.01'), Synset('male_child.n.01'):\t LCS=Synset('person.n.01'), distance=0.51\nSynset('girl.n.01'), Synset('woman.n.01'):\t LCS=Synset('woman.n.01'), distance=0.81\nSynset('male_child.n.01'), Synset('man.n.01'):\t LCS=Synset('male.n.02'), distance=0.7\nSynset('male_child.n.01'), Synset('girl.n.01'):\t LCS=Synset('person.n.01'), distance=0.51\nSynset('male_child.n.01'), Synset('woman.n.01'):\t LCS=Synset('person.n.01'), distance=0.56\nSynset('woman.n.01'), Synset('man.n.01'):\t LCS=Synset('adult.n.01'), distance=0.7\nSynset('woman.n.01'), Synset('girl.n.01'):\t LCS=Synset('woman.n.01'), distance=0.81\nSynset('woman.n.01'), Synset('male_child.n.01'):\t LCS=Synset('person.n.01'), distance=0.56\nSynset('walk.v.01'), Synset('swim.v.01'):\t LCS=Synset('travel.v.01'), distance=0.59\n"
     ]
    }
   ],
   "source": [
    "print(\"LCSimilaities:\")\n",
    "printSynsetDistanceMetric(synsets, LCS, LCSimilarities)"
   ]
  },
  {
   "cell_type": "code",
   "execution_count": 8,
   "metadata": {},
   "outputs": [
    {
     "output_type": "stream",
     "name": "stdout",
     "text": [
      "WuPalmerSimilarities:\nSynset('man.n.01'), Synset('girl.n.01'):\t LCS=Synset('adult.n.01'), distance=0.63\nSynset('man.n.01'), Synset('male_child.n.01'):\t LCS=Synset('male.n.02'), distance=0.67\nSynset('man.n.01'), Synset('woman.n.01'):\t LCS=Synset('adult.n.01'), distance=0.67\nSynset('swim.v.01'), Synset('walk.v.01'):\t LCS=Synset('travel.v.01'), distance=0.33\nSynset('girl.n.01'), Synset('man.n.01'):\t LCS=Synset('adult.n.01'), distance=0.63\nSynset('girl.n.01'), Synset('male_child.n.01'):\t LCS=Synset('person.n.01'), distance=0.63\nSynset('girl.n.01'), Synset('woman.n.01'):\t LCS=Synset('woman.n.01'), distance=0.63\nSynset('male_child.n.01'), Synset('man.n.01'):\t LCS=Synset('male.n.02'), distance=0.67\nSynset('male_child.n.01'), Synset('girl.n.01'):\t LCS=Synset('person.n.01'), distance=0.63\nSynset('male_child.n.01'), Synset('woman.n.01'):\t LCS=Synset('person.n.01'), distance=0.67\nSynset('woman.n.01'), Synset('man.n.01'):\t LCS=Synset('adult.n.01'), distance=0.67\nSynset('woman.n.01'), Synset('girl.n.01'):\t LCS=Synset('woman.n.01'), distance=0.95\nSynset('woman.n.01'), Synset('male_child.n.01'):\t LCS=Synset('person.n.01'), distance=0.67\nSynset('walk.v.01'), Synset('swim.v.01'):\t LCS=Synset('travel.v.01'), distance=0.33\n"
     ]
    }
   ],
   "source": [
    "print(\"WuPalmerSimilarities:\")\n",
    "printSynsetDistanceMetric(synsets, LCS, WuPalmerSimilarities)"
   ]
  },
  {
   "cell_type": "code",
   "execution_count": 9,
   "metadata": {},
   "outputs": [
    {
     "output_type": "stream",
     "name": "stdout",
     "text": [
      "LinSimilarities:\nSynset('man.n.01'), Synset('girl.n.01'):\t LCS=Synset('adult.n.01'), distance=0.71\nSynset('man.n.01'), Synset('male_child.n.01'):\t LCS=Synset('male.n.02'), distance=0.73\nSynset('man.n.01'), Synset('woman.n.01'):\t LCS=Synset('adult.n.01'), distance=0.79\nSynset('swim.v.01'), Synset('walk.v.01'):\t LCS=Synset('travel.v.01'), distance=0.49\nSynset('girl.n.01'), Synset('man.n.01'):\t LCS=Synset('adult.n.01'), distance=0.71\nSynset('girl.n.01'), Synset('male_child.n.01'):\t LCS=Synset('person.n.01'), distance=0.29\nSynset('girl.n.01'), Synset('woman.n.01'):\t LCS=Synset('woman.n.01'), distance=0.91\nSynset('male_child.n.01'), Synset('man.n.01'):\t LCS=Synset('male.n.02'), distance=0.73\nSynset('male_child.n.01'), Synset('girl.n.01'):\t LCS=Synset('person.n.01'), distance=0.29\nSynset('male_child.n.01'), Synset('woman.n.01'):\t LCS=Synset('person.n.01'), distance=0.32\nSynset('woman.n.01'), Synset('man.n.01'):\t LCS=Synset('adult.n.01'), distance=0.79\nSynset('woman.n.01'), Synset('girl.n.01'):\t LCS=Synset('woman.n.01'), distance=0.91\nSynset('woman.n.01'), Synset('male_child.n.01'):\t LCS=Synset('person.n.01'), distance=0.32\nSynset('walk.v.01'), Synset('swim.v.01'):\t LCS=Synset('travel.v.01'), distance=0.49\n"
     ]
    }
   ],
   "source": [
    "print(\"LinSimilarities:\")\n",
    "printSynsetDistanceMetric(synsets, LCS, LinSimilarities)"
   ]
  },
  {
   "source": [
    "***\n",
    "\n",
    "## Conclusions"
   ],
   "cell_type": "markdown",
   "metadata": {}
  },
  {
   "source": [
    "The Lin similarity seems to be the best similarity metric overall for the `DATA` provided. Especially in the gender lexical comparisons, we can appreciate a much better discrimination in the Lin metric.\n",
    "\n",
    "The tables for the nouns are as follows:"
   ],
   "cell_type": "markdown",
   "metadata": {}
  },
  {
   "source": [
    "| PATH       \t| man  \t| girl \t| male_child \t| woman \t|\n",
    "|------------\t|------\t|------\t|------------\t|-------\t|\n",
    "| man        \t| 1    \t| 0.25 \t| 0.33       \t| 0.33  \t|\n",
    "| girl       \t| 0.25 \t| 1    \t| 0.17       \t| 0.5   \t|\n",
    "| male_child \t| 0.33 \t| 0.17 \t| 1          \t| 0.2   \t|\n",
    "| woman      \t| 0.33 \t| 0.5  \t| 0.2        \t| 1     \t|\n"
   ],
   "cell_type": "markdown",
   "metadata": {}
  },
  {
   "source": [
    "| LCS       \t| man  \t| girl \t| male_child \t| woman \t|\n",
    "|------------\t|------\t|------\t|------------\t|-------\t|\n",
    "| man        \t| 1    \t| 0.62 \t| 0.7        \t| 0.7   \t|\n",
    "| girl       \t| 0.62 \t| 1    \t| 0.51       \t| 0.81  \t|\n",
    "| male_child \t| 0.7  \t| 0.51 \t| 1          \t| 0.56  \t|\n",
    "| woman      \t| 0.7  \t| 0.81 \t| 0.56       \t| 1     \t|"
   ],
   "cell_type": "markdown",
   "metadata": {}
  },
  {
   "source": [
    "| WuPalmer     \t| man  \t| girl \t| male_child \t| woman \t|\n",
    "|------------\t|------\t|------\t|------------\t|-------\t|\n",
    "| man        \t| 1    \t| 0.63 \t| 0.67       \t| 0.67  \t|\n",
    "| girl       \t| 0.63 \t| 1    \t| 0.63       \t| 0.63  \t|\n",
    "| male_child \t| 0.67 \t| 0.63 \t| 1          \t| 0.67  \t|\n",
    "| woman      \t| 0.67 \t| 0.95 \t| 0.67       \t| 1     \t|"
   ],
   "cell_type": "markdown",
   "metadata": {}
  },
  {
   "source": [
    "| LIN       \t| man  \t| girl \t| male_child \t| woman \t|\n",
    "|------------\t|------\t|------\t|------------\t|-------\t|\n",
    "| man        \t| 1    \t| 0.71 \t| 0.73       \t| 0.79  \t|\n",
    "| girl       \t| 0.71 \t| 1    \t| 0.29       \t| 0.91  \t|\n",
    "| male_child \t| 0.73 \t| 0.29 \t| 1          \t| 0.32  \t|\n",
    "| woman      \t| 0.79 \t| 0.91 \t| 0.32       \t| 1     \t|"
   ],
   "cell_type": "markdown",
   "metadata": {}
  },
  {
   "source": [
    "From the previous tables we can observe a clear win on the LIN similarity due to the fact that, compared to Wu Palmer, it discerns gender information a lot better. If we look at the woman row; `male_child < man < girl` in terms of similarity to woman, which makes sense. Woman is a grown girl, so it shold be more similar. It also is the opposite gender of Man, which makes it less similar as it would have to go all the way to `person` in the lexical tree and then come down in the male branch. Finally the most different one is `male_child`, as in addition to performing the same path as man, it would have to come even further down the tree.\n",
    "\n",
    "Other metrics have the same heuristics, but the Lin metric is the one that offers a wider range for discriminating the differences."
   ],
   "cell_type": "markdown",
   "metadata": {}
  },
  {
   "source": [
    "***\n",
    "\n",
    "### End of P4"
   ],
   "cell_type": "markdown",
   "metadata": {}
  }
 ]
}