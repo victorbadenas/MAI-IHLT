{
 "cells": [
  {
   "cell_type": "markdown",
   "metadata": {},
   "source": [
    "## HMM"
   ]
  },
  {
   "cell_type": "code",
   "execution_count": 1,
   "metadata": {},
   "outputs": [
    {
     "data": {
      "text/plain": [
       "'accuracy:0.106'"
      ]
     },
     "execution_count": 1,
     "metadata": {},
     "output_type": "execute_result"
    }
   ],
   "source": [
    "from nltk.tag.hmm import HiddenMarkovModelTrainer\n",
    "from nltk.corpus import treebank\n",
    "\n",
    "train_data = treebank.tagged_sents()[:30]\n",
    "test_data = treebank.tagged_sents()[3000:]\n",
    "\n",
    "trainer = HiddenMarkovModelTrainer()\n",
    "HMM = trainer.train_supervised(train_data)\n",
    "\n",
    "'accuracy: ' + str(round(HMM.evaluate(test_data), 3))"
   ]
  },
  {
   "cell_type": "code",
   "execution_count": 2,
   "metadata": {},
   "outputs": [
    {
     "data": {
      "text/plain": [
       "[('the', 'DT'),\n",
       " ('men', 'NNP'),\n",
       " ('attended', 'NNP'),\n",
       " ('to', 'NNP'),\n",
       " ('the', 'NNP'),\n",
       " ('meetings', 'NNP')]"
      ]
     },
     "execution_count": 2,
     "metadata": {},
     "output_type": "execute_result"
    }
   ],
   "source": [
    "HMM.tag(['the', 'men', 'attended', 'to', 'the', 'meetings'])"
   ]
  }
 ],
 "metadata": {
  "kernelspec": {
   "display_name": "Python 3",
   "language": "python",
   "name": "python3"
  },
  "language_info": {
   "codemirror_mode": {
    "name": "ipython",
    "version": 3
   },
   "file_extension": ".py",
   "mimetype": "text/x-python",
   "name": "python",
   "nbconvert_exporter": "python",
   "pygments_lexer": "ipython3",
   "version": "3.5.2"
  }
 },
 "nbformat": 4,
 "nbformat_minor": 2
}
