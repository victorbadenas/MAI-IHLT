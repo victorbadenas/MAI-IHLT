{
 "metadata": {
  "language_info": {
   "codemirror_mode": {
    "name": "ipython",
    "version": 3
   },
   "file_extension": ".py",
   "mimetype": "text/x-python",
   "name": "python",
   "nbconvert_exporter": "python",
   "pygments_lexer": "ipython3",
   "version": "3.7.9-final"
  },
  "orig_nbformat": 2,
  "kernelspec": {
   "name": "Python 3.7.9 64-bit ('IHLT3.7': conda)",
   "display_name": "Python 3.7.9 64-bit ('IHLT3.7': conda)",
   "metadata": {
    "interpreter": {
     "hash": "d95a5ba215b5c0d3c5562e0f5b2730844d9eca1086482e66ee8573214ced8df7"
    }
   }
  }
 },
 "nbformat": 4,
 "nbformat_minor": 2,
 "cells": [
  {
   "cell_type": "code",
   "execution_count": 1,
   "metadata": {},
   "outputs": [
    {
     "output_type": "stream",
     "name": "stderr",
     "text": [
      "[nltk_data] Downloading package treebank to /Users/victor/nltk_data...\n[nltk_data]   Package treebank is already up-to-date!\n"
     ]
    }
   ],
   "source": [
    "import nltk\n",
    "import dill\n",
    "import tqdm\n",
    "import pprint\n",
    "from pathlib import Path\n",
    "from nltk.corpus import treebank\n",
    "from nltk.tag import CRFTagger\n",
    "from nltk.tag import HiddenMarkovModelTrainer\n",
    "from nltk.tag import PerceptronTagger\n",
    "from nltk.tag import TnT\n",
    "nltk.download('treebank')\n",
    "\n",
    "MODELS_PATH = Path(\"./models\")"
   ]
  },
  {
   "cell_type": "code",
   "execution_count": 2,
   "metadata": {},
   "outputs": [],
   "source": [
    "def saveModel(model, path):\n",
    "    with open(path, \"wb\") as f:\n",
    "        dill.dump(model, f)\n",
    "\n",
    "def evaluateModel(testData, model):\n",
    "    acc = round(HMM.evaluate(testData), 3)\n",
    "    print('accuracy: ' + str(acc))\n",
    "    return acc\n",
    "\n",
    "def trainHMM(trainData, modelPath):\n",
    "    trainer = HiddenMarkovModelTrainer()\n",
    "    HMM = trainer.train_supervised(trainData)\n",
    "    saveModel(HMM, modelPath)\n",
    "    return HMM\n",
    "\n",
    "def trainTnT(trainData, modelPath):\n",
    "    tnT = TnT()\n",
    "    tnT.train(trainData)\n",
    "    saveModel(tnT, modelPath)\n",
    "    return tnT\n",
    "\n",
    "def trainPerceptron(trainData, modelPath):\n",
    "    PER = PerceptronTagger(load=False)\n",
    "    PER.train(trainData)\n",
    "    saveModel(PER, modelPath)\n",
    "    return PER\n",
    "\n",
    "def trainCRF(trainData, modelPath):\n",
    "    CRF = CRFTagger()\n",
    "    CRF.train(trainData, str(modelPath))\n",
    "    return CRF\n"
   ]
  },
  {
   "cell_type": "code",
   "execution_count": 3,
   "metadata": {},
   "outputs": [],
   "source": [
    "models = {k:dict() for k in (\"HMM\", \"TnT\", \"PER\", \"CRF\")}\n",
    "for model in models:\n",
    "    Path(MODELS_PATH / model).mkdir(parents=True, exist_ok=True)"
   ]
  },
  {
   "cell_type": "code",
   "execution_count": 4,
   "metadata": {},
   "outputs": [
    {
     "output_type": "stream",
     "name": "stderr",
     "text": [
      "100%|██████████| 6/6 [03:03<00:00, 30.66s/it]{'CRF': {500: <nltk.tag.crf.CRFTagger object at 0x120f59310>,\n",
      "         1000: <nltk.tag.crf.CRFTagger object at 0x121327050>,\n",
      "         1500: <nltk.tag.crf.CRFTagger object at 0x125dcc550>,\n",
      "         2000: <nltk.tag.crf.CRFTagger object at 0x122dbd190>,\n",
      "         2500: <nltk.tag.crf.CRFTagger object at 0x12ba7c410>,\n",
      "         3000: <nltk.tag.crf.CRFTagger object at 0x12957e410>},\n",
      " 'HMM': {500: <HiddenMarkovModelTagger 42 states and 3305 output symbols>,\n",
      "         1000: <HiddenMarkovModelTagger 44 states and 5391 output symbols>,\n",
      "         1500: <HiddenMarkovModelTagger 45 states and 6913 output symbols>,\n",
      "         2000: <HiddenMarkovModelTagger 46 states and 8579 output symbols>,\n",
      "         2500: <HiddenMarkovModelTagger 46 states and 9786 output symbols>,\n",
      "         3000: <HiddenMarkovModelTagger 46 states and 10779 output symbols>},\n",
      " 'PER': {500: <nltk.tag.perceptron.PerceptronTagger object at 0x120af3f50>,\n",
      "         1000: <nltk.tag.perceptron.PerceptronTagger object at 0x120af3310>,\n",
      "         1500: <nltk.tag.perceptron.PerceptronTagger object at 0x120f2fd90>,\n",
      "         2000: <nltk.tag.perceptron.PerceptronTagger object at 0x122603690>,\n",
      "         2500: <nltk.tag.perceptron.PerceptronTagger object at 0x122516510>,\n",
      "         3000: <nltk.tag.perceptron.PerceptronTagger object at 0x128c8a910>},\n",
      " 'TnT': {500: <nltk.tag.tnt.TnT object at 0x120af3e10>,\n",
      "         1000: <nltk.tag.tnt.TnT object at 0x10577cc90>,\n",
      "         1500: <nltk.tag.tnt.TnT object at 0x12109b290>,\n",
      "         2000: <nltk.tag.tnt.TnT object at 0x122603ed0>,\n",
      "         2500: <nltk.tag.tnt.TnT object at 0x122603f50>,\n",
      "         3000: <nltk.tag.tnt.TnT object at 0x128c8a050>}}\n",
      "\n"
     ]
    }
   ],
   "source": [
    "for trainingSentences in tqdm.tqdm(range(500, 3001, 500)):\n",
    "    trainData = treebank.tagged_sents()[:trainingSentences]\n",
    "    models['HMM'][trainingSentences] = trainHMM(trainData, MODELS_PATH / \"HMM\" / f'hmm_{trainingSentences}')\n",
    "    models['TnT'][trainingSentences] = trainTnT(trainData, MODELS_PATH / \"TnT\" / f'tnt_{trainingSentences}')\n",
    "    models['PER'][trainingSentences] = trainPerceptron(trainData, MODELS_PATH / \"PER\" / f'per_{trainingSentences}')\n",
    "    models['CRF'][trainingSentences] = trainCRF(trainData, MODELS_PATH / \"CRF\" / f'crf_{trainingSentences}')\n",
    "print()\n",
    "pprint.pprint(models)"
   ]
  },
  {
   "cell_type": "code",
   "execution_count": null,
   "metadata": {},
   "outputs": [],
   "source": [
    "testData = treebank.tagged_sents()[3000:]\n",
    "for modelType in models:\n",
    "    for trainingSentences, model in models[model]:\n",
    "        print"
   ]
  }
 ]
}