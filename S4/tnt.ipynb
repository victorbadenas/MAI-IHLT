{
 "cells": [
  {
   "cell_type": "markdown",
   "metadata": {},
   "source": [
    "## TnT"
   ]
  },
  {
   "cell_type": "code",
   "execution_count": 1,
   "metadata": {},
   "outputs": [
    {
     "data": {
      "text/plain": [
       "'accuracy: 0.457'"
      ]
     },
     "execution_count": 1,
     "metadata": {},
     "output_type": "execute_result"
    }
   ],
   "source": [
    "from nltk.corpus import treebank\n",
    "from nltk.tag import tnt\n",
    "\n",
    "train_data = treebank.tagged_sents()[:30]\n",
    "test_data = treebank.tagged_sents()[3000:]\n",
    "\n",
    "TnT = tnt.TnT()\n",
    "TnT.train(train_data)\n",
    "\n",
    "'accuracy: ' + str(round(TnT.evaluate(test_data), 3))"
   ]
  },
  {
   "cell_type": "code",
   "execution_count": 2,
   "metadata": {},
   "outputs": [
    {
     "data": {
      "text/plain": [
       "[('the', 'DT'),\n",
       " ('men', 'NNS'),\n",
       " ('attended', 'Unk'),\n",
       " ('to', 'TO'),\n",
       " ('the', 'DT'),\n",
       " ('meetings', 'Unk')]"
      ]
     },
     "execution_count": 2,
     "metadata": {},
     "output_type": "execute_result"
    }
   ],
   "source": [
    "TnT.tag(['the', 'men', 'attended', 'to', 'the', 'meetings'])"
   ]
  }
 ],
 "metadata": {
  "kernelspec": {
   "display_name": "Python 3",
   "language": "python",
   "name": "python3"
  },
  "language_info": {
   "codemirror_mode": {
    "name": "ipython",
    "version": 3
   },
   "file_extension": ".py",
   "mimetype": "text/x-python",
   "name": "python",
   "nbconvert_exporter": "python",
   "pygments_lexer": "ipython3",
   "version": "3.5.2"
  }
 },
 "nbformat": 4,
 "nbformat_minor": 2
}
