{
 "cells": [
  {
   "cell_type": "markdown",
   "metadata": {},
   "source": [
    "# Lab 7: Word Sequences\n",
    "## Introduction to Human Language Technologies\n",
    "### Victor Badenas Crespo\n",
    "\n",
    "***"
   ]
  },
  {
   "cell_type": "markdown",
   "metadata": {},
   "source": [
    "## Statement:\n",
    "\n",
    "- Consider the following sentence: `Lazy cats play with mice`.\n",
    "- Expand the grammar of the example related to non-probabilistic chart parsers in order to subsume this new sentence.\n",
    "- Perform the constituency parsing using a BottomUpChartParser, a BottomUpLeftCornerChartParser and a LeftCornerChartParser.\n",
    "- For each one of them, provide the resulting tree, the number of edges and the list of explored edges.\n",
    "- Which parser is the most efficient for parsing the sentence?\n",
    "- Which edges are filtered out by each parser and why?"
   ]
  },
  {
   "cell_type": "markdown",
   "metadata": {},
   "source": [
    "***\n",
    "\n",
    "## Solution"
   ]
  },
  {
   "cell_type": "code",
   "execution_count": 1,
   "metadata": {},
   "outputs": [],
   "source": [
    "import nltk\n",
    "from nltk import CFG, ChartParser\n",
    "from nltk import BottomUpChartParser, BottomUpLeftCornerChartParser, LeftCornerChartParser"
   ]
  },
  {
   "cell_type": "code",
   "execution_count": 2,
   "metadata": {},
   "outputs": [
    {
     "name": "stdout",
     "output_type": "stream",
     "text": [
      "Grammar with 17 productions (start state = S)\n",
      "    S -> NP VP NP\n",
      "    NP -> NNS\n",
      "    NP -> JJ NNS\n",
      "    NP -> NP CC NP\n",
      "    VP -> VV CC\n",
      "    VP -> VV\n",
      "    NNS -> 'cats'\n",
      "    NNS -> 'dogs'\n",
      "    NNS -> 'mice'\n",
      "    NNS -> NNS CC NNS\n",
      "    JJ -> 'big'\n",
      "    JJ -> 'small'\n",
      "    JJ -> 'Lazy'\n",
      "    CC -> 'and'\n",
      "    CC -> 'or'\n",
      "    CC -> 'with'\n",
      "    VV -> 'play'\n"
     ]
    }
   ],
   "source": [
    "grammar = CFG.fromstring('''\n",
    "  S   -> NP VP NP\n",
    "  NP  -> NNS | JJ NNS | NP CC NP\n",
    "  VP  -> VV CC | VV\n",
    "  NNS -> \"cats\" | \"dogs\" | \"mice\" | NNS CC NNS\n",
    "  JJ  -> \"big\" | \"small\" | \"Lazy\"\n",
    "  CC  -> \"and\" | \"or\" | \"with\"\n",
    "  VV  -> \"play\"\n",
    "  ''')\n",
    "print(grammar)"
   ]
  },
  {
   "cell_type": "code",
   "execution_count": 3,
   "metadata": {},
   "outputs": [
    {
     "name": "stdout",
     "output_type": "stream",
     "text": [
      "['Lazy', 'cats', 'play', 'with', 'mice']\n"
     ]
    }
   ],
   "source": [
    "sentence = \"Lazy cats play with mice\"\n",
    "# sentence = \"with mice\"\n",
    "words = nltk.word_tokenize(sentence)\n",
    "print(words)"
   ]
  },
  {
   "cell_type": "code",
   "execution_count": 4,
   "metadata": {},
   "outputs": [],
   "source": [
    "parser = ChartParser(grammar)\n",
    "parse = parser.parse(words)"
   ]
  },
  {
   "cell_type": "code",
   "execution_count": 5,
   "metadata": {},
   "outputs": [
    {
     "name": "stdout",
     "output_type": "stream",
     "text": [
      "number of trees: 1\n"
     ]
    }
   ],
   "source": [
    "ts = []\n",
    "for t in parse:\n",
    "    ts.append(t)\n",
    "print('number of trees:', len(ts))"
   ]
  },
  {
   "cell_type": "code",
   "execution_count": 6,
   "metadata": {},
   "outputs": [
    {
     "data": {
      "image/png": "[encoded data removed]",
      "text/plain": [
       "Tree('S', [Tree('NP', [Tree('JJ', ['Lazy']), Tree('NNS', ['cats'])]), Tree('VP', [Tree('VV', ['play']), Tree('CC', ['with'])]), Tree('NP', [Tree('NNS', ['mice'])])])"
      ]
     },
     "execution_count": 6,
     "metadata": {},
     "output_type": "execute_result"
    }
   ],
   "source": [
    "ts[0]"
   ]
  },
  {
   "cell_type": "code",
   "execution_count": 7,
   "metadata": {},
   "outputs": [
    {
     "name": "stdout",
     "output_type": "stream",
     "text": [
      "bottomUpChartParser has 1\n"
     ]
    }
   ],
   "source": [
    "bottomUpChartParser = BottomUpChartParser(grammar)\n",
    "bottomUpChartParserparse = bottomUpChartParser.parse(words)\n",
    "bottomUpChartTrees = [t for t in bottomUpChartParserparse]\n",
    "print(f\"bottomUpChartParser has {len(bottomUpChartTrees)}\")"
   ]
  },
  {
   "cell_type": "code",
   "execution_count": 8,
   "metadata": {},
   "outputs": [
    {
     "name": "stdout",
     "output_type": "stream",
     "text": [
      "bottomUpChart num edges =  49\n"
     ]
    },
    {
     "data": {
      "image/png": "[encoded data removed]",
      "text/plain": [
       "Tree('S', [Tree('NP', [Tree('JJ', ['Lazy']), Tree('NNS', ['cats'])]), Tree('VP', [Tree('VV', ['play']), Tree('CC', ['with'])]), Tree('NP', [Tree('NNS', ['mice'])])])"
      ]
     },
     "execution_count": 8,
     "metadata": {},
     "output_type": "execute_result"
    }
   ],
   "source": [
    "print(\"bottomUpChart num edges = \", bottomUpChartParser.chart_parse(words).num_edges())\n",
    "bottomUpChartTrees[0]"
   ]
  },
  {
   "cell_type": "code",
   "execution_count": 9,
   "metadata": {},
   "outputs": [
    {
     "name": "stdout",
     "output_type": "stream",
     "text": [
      "bottomUpLeftCornerChartParser has 1\n"
     ]
    }
   ],
   "source": [
    "bottomUpLeftCornerChartParser = BottomUpLeftCornerChartParser(grammar)\n",
    "bottomUpLeftCornerChartParserparse = bottomUpLeftCornerChartParser.parse(words)\n",
    "bottomUpLeftCornerChartTrees = [t for t in bottomUpLeftCornerChartParserparse]\n",
    "print(f\"bottomUpLeftCornerChartParser has {len(bottomUpLeftCornerChartTrees)}\")"
   ]
  },
  {
   "cell_type": "code",
   "execution_count": 10,
   "metadata": {},
   "outputs": [
    {
     "name": "stdout",
     "output_type": "stream",
     "text": [
      "bottomUpLeftCornerChart num edges =  31\n"
     ]
    },
    {
     "data": {
      "image/png": "[encoded data removed]",
      "text/plain": [
       "Tree('S', [Tree('NP', [Tree('JJ', ['Lazy']), Tree('NNS', ['cats'])]), Tree('VP', [Tree('VV', ['play']), Tree('CC', ['with'])]), Tree('NP', [Tree('NNS', ['mice'])])])"
      ]
     },
     "execution_count": 10,
     "metadata": {},
     "output_type": "execute_result"
    }
   ],
   "source": [
    "print(\"bottomUpLeftCornerChart num edges = \", bottomUpLeftCornerChartParser.chart_parse(words).num_edges())\n",
    "bottomUpLeftCornerChartTrees[0]"
   ]
  },
  {
   "cell_type": "code",
   "execution_count": 11,
   "metadata": {},
   "outputs": [
    {
     "name": "stdout",
     "output_type": "stream",
     "text": [
      "leftCornerChartParser has 1\n"
     ]
    }
   ],
   "source": [
    "leftCornerChartParser = LeftCornerChartParser(grammar)\n",
    "leftCornerChartParserparse = leftCornerChartParser.parse(words)\n",
    "leftCornerChartTrees = [t for t in leftCornerChartParserparse]\n",
    "print(f\"leftCornerChartParser has {len(leftCornerChartTrees)}\")"
   ]
  },
  {
   "cell_type": "code",
   "execution_count": 12,
   "metadata": {},
   "outputs": [
    {
     "name": "stdout",
     "output_type": "stream",
     "text": [
      "leftCornerChart num edges =  23\n"
     ]
    },
    {
     "data": {
      "image/png": "[encoded data removed]",
      "text/plain": [
       "Tree('S', [Tree('NP', [Tree('JJ', ['Lazy']), Tree('NNS', ['cats'])]), Tree('VP', [Tree('VV', ['play']), Tree('CC', ['with'])]), Tree('NP', [Tree('NNS', ['mice'])])])"
      ]
     },
     "execution_count": 12,
     "metadata": {},
     "output_type": "execute_result"
    }
   ],
   "source": [
    "print(\"leftCornerChart num edges = \", leftCornerChartParser.chart_parse(words).num_edges())\n",
    "leftCornerChartTrees[0]"
   ]
  },
  {
   "cell_type": "markdown",
   "metadata": {},
   "source": [
    "***\n",
    "## Conclusion\n",
    "\n",
    "- _BottomUpChartParser:_ 49 -> does not filter any edges\n",
    "- _BottomUpLeftCornerChartParser:_ 31 -> bottom-up strategy filtering out edges without any word subsumtion\n",
    "- _LeftCornerChartParser:_ 23 -> bottom-up strategy filtering out edges without new word subsumptions\n",
    "\n",
    "LeftCornerChartParser is the best parsing the sentence as the number of edges that has to explore is the smallest of the 3."
   ]
  },
  {
   "cell_type": "code",
   "execution_count": 13,
   "metadata": {},
   "outputs": [],
   "source": [
    "bottomUpChartEdges = bottomUpChartParser.chart_parse(words)._edge_to_cpls\n",
    "bottomUpLeftCornerChartEdges = bottomUpLeftCornerChartParser.chart_parse(words)._edge_to_cpls\n",
    "leftCornerChartEdges = leftCornerChartParser.chart_parse(words)._edge_to_cpls"
   ]
  },
  {
   "cell_type": "code",
   "execution_count": 14,
   "metadata": {},
   "outputs": [
    {
     "data": {
      "text/plain": [
       "{[Edge: [0:1] 'Lazy']: {(): True},\n",
       " [Edge: [1:2] 'cats']: {(): True},\n",
       " [Edge: [2:3] 'play']: {(): True},\n",
       " [Edge: [3:4] 'with']: {(): True},\n",
       " [Edge: [4:5] 'mice']: {(): True},\n",
       " [Edge: [0:0] JJ -> * 'Lazy']: {(): True},\n",
       " [Edge: [0:1] JJ -> 'Lazy' *]: {([Edge: [0:1] 'Lazy'],): True},\n",
       " [Edge: [0:0] NP -> * JJ NNS]: {(): True},\n",
       " [Edge: [0:1] NP -> JJ * NNS]: {([Edge: [0:1] JJ -> 'Lazy' *],): True},\n",
       " [Edge: [1:1] NNS -> * 'cats']: {(): True},\n",
       " [Edge: [1:2] NNS -> 'cats' *]: {([Edge: [1:2] 'cats'],): True},\n",
       " [Edge: [1:1] NP -> * NNS]: {(): True},\n",
       " [Edge: [1:1] NNS -> * NNS CC NNS]: {(): True},\n",
       " [Edge: [0:2] NP -> JJ NNS *]: {([Edge: [0:1] JJ -> 'Lazy' *],\n",
       "   [Edge: [1:2] NNS -> 'cats' *]): True},\n",
       " [Edge: [1:2] NP -> NNS *]: {([Edge: [1:2] NNS -> 'cats' *],): True},\n",
       " [Edge: [1:2] NNS -> NNS * CC NNS]: {([Edge: [1:2] NNS -> 'cats' *],): True},\n",
       " [Edge: [1:1] S  -> * NP VP NP]: {(): True},\n",
       " [Edge: [1:1] NP -> * NP CC NP]: {(): True},\n",
       " [Edge: [1:2] S  -> NP * VP NP]: {([Edge: [1:2] NP -> NNS *],): True},\n",
       " [Edge: [1:2] NP -> NP * CC NP]: {([Edge: [1:2] NP -> NNS *],): True},\n",
       " [Edge: [0:0] S  -> * NP VP NP]: {(): True},\n",
       " [Edge: [0:0] NP -> * NP CC NP]: {(): True},\n",
       " [Edge: [0:2] S  -> NP * VP NP]: {([Edge: [0:2] NP -> JJ NNS *],): True},\n",
       " [Edge: [0:2] NP -> NP * CC NP]: {([Edge: [0:2] NP -> JJ NNS *],): True},\n",
       " [Edge: [2:2] VV -> * 'play']: {(): True},\n",
       " [Edge: [2:3] VV -> 'play' *]: {([Edge: [2:3] 'play'],): True},\n",
       " [Edge: [2:2] VP -> * VV CC]: {(): True},\n",
       " [Edge: [2:2] VP -> * VV]: {(): True},\n",
       " [Edge: [2:3] VP -> VV * CC]: {([Edge: [2:3] VV -> 'play' *],): True},\n",
       " [Edge: [2:3] VP -> VV *]: {([Edge: [2:3] VV -> 'play' *],): True},\n",
       " [Edge: [1:3] S  -> NP VP * NP]: {([Edge: [1:2] NP -> NNS *],\n",
       "   [Edge: [2:3] VP -> VV *]): True},\n",
       " [Edge: [0:3] S  -> NP VP * NP]: {([Edge: [0:2] NP -> JJ NNS *],\n",
       "   [Edge: [2:3] VP -> VV *]): True},\n",
       " [Edge: [3:3] CC -> * 'with']: {(): True},\n",
       " [Edge: [3:4] CC -> 'with' *]: {([Edge: [3:4] 'with'],): True},\n",
       " [Edge: [2:4] VP -> VV CC *]: {([Edge: [2:3] VV -> 'play' *],\n",
       "   [Edge: [3:4] CC -> 'with' *]): True},\n",
       " [Edge: [1:4] S  -> NP VP * NP]: {([Edge: [1:2] NP -> NNS *],\n",
       "   [Edge: [2:4] VP -> VV CC *]): True},\n",
       " [Edge: [0:4] S  -> NP VP * NP]: {([Edge: [0:2] NP -> JJ NNS *],\n",
       "   [Edge: [2:4] VP -> VV CC *]): True},\n",
       " [Edge: [4:4] NNS -> * 'mice']: {(): True},\n",
       " [Edge: [4:5] NNS -> 'mice' *]: {([Edge: [4:5] 'mice'],): True},\n",
       " [Edge: [4:4] NP -> * NNS]: {(): True},\n",
       " [Edge: [4:4] NNS -> * NNS CC NNS]: {(): True},\n",
       " [Edge: [4:5] NP -> NNS *]: {([Edge: [4:5] NNS -> 'mice' *],): True},\n",
       " [Edge: [4:5] NNS -> NNS * CC NNS]: {([Edge: [4:5] NNS -> 'mice' *],): True},\n",
       " [Edge: [4:4] S  -> * NP VP NP]: {(): True},\n",
       " [Edge: [4:4] NP -> * NP CC NP]: {(): True},\n",
       " [Edge: [1:5] S  -> NP VP NP *]: {([Edge: [1:2] NP -> NNS *],\n",
       "   [Edge: [2:4] VP -> VV CC *],\n",
       "   [Edge: [4:5] NP -> NNS *]): True},\n",
       " [Edge: [0:5] S  -> NP VP NP *]: {([Edge: [0:2] NP -> JJ NNS *],\n",
       "   [Edge: [2:4] VP -> VV CC *],\n",
       "   [Edge: [4:5] NP -> NNS *]): True},\n",
       " [Edge: [4:5] S  -> NP * VP NP]: {([Edge: [4:5] NP -> NNS *],): True},\n",
       " [Edge: [4:5] NP -> NP * CC NP]: {([Edge: [4:5] NP -> NNS *],): True}}"
      ]
     },
     "execution_count": 14,
     "metadata": {},
     "output_type": "execute_result"
    }
   ],
   "source": [
    "bottomUpChartEdges"
   ]
  },
  {
   "cell_type": "code",
   "execution_count": 15,
   "metadata": {},
   "outputs": [
    {
     "data": {
      "text/plain": [
       "{[Edge: [0:1] 'Lazy']: {(): True},\n",
       " [Edge: [1:2] 'cats']: {(): True},\n",
       " [Edge: [2:3] 'play']: {(): True},\n",
       " [Edge: [3:4] 'with']: {(): True},\n",
       " [Edge: [4:5] 'mice']: {(): True},\n",
       " [Edge: [0:1] JJ -> 'Lazy' *]: {([Edge: [0:1] 'Lazy'],): True},\n",
       " [Edge: [0:1] NP -> JJ * NNS]: {([Edge: [0:1] JJ -> 'Lazy' *],): True},\n",
       " [Edge: [1:2] NNS -> 'cats' *]: {([Edge: [1:2] 'cats'],): True},\n",
       " [Edge: [1:2] NP -> NNS *]: {([Edge: [1:2] NNS -> 'cats' *],): True},\n",
       " [Edge: [1:2] NNS -> NNS * CC NNS]: {([Edge: [1:2] NNS -> 'cats' *],): True},\n",
       " [Edge: [0:2] NP -> JJ NNS *]: {([Edge: [0:1] JJ -> 'Lazy' *],\n",
       "   [Edge: [1:2] NNS -> 'cats' *]): True},\n",
       " [Edge: [0:2] S  -> NP * VP NP]: {([Edge: [0:2] NP -> JJ NNS *],): True},\n",
       " [Edge: [0:2] NP -> NP * CC NP]: {([Edge: [0:2] NP -> JJ NNS *],): True},\n",
       " [Edge: [1:2] S  -> NP * VP NP]: {([Edge: [1:2] NP -> NNS *],): True},\n",
       " [Edge: [1:2] NP -> NP * CC NP]: {([Edge: [1:2] NP -> NNS *],): True},\n",
       " [Edge: [2:3] VV -> 'play' *]: {([Edge: [2:3] 'play'],): True},\n",
       " [Edge: [2:3] VP -> VV * CC]: {([Edge: [2:3] VV -> 'play' *],): True},\n",
       " [Edge: [2:3] VP -> VV *]: {([Edge: [2:3] VV -> 'play' *],): True},\n",
       " [Edge: [0:3] S  -> NP VP * NP]: {([Edge: [0:2] NP -> JJ NNS *],\n",
       "   [Edge: [2:3] VP -> VV *]): True},\n",
       " [Edge: [1:3] S  -> NP VP * NP]: {([Edge: [1:2] NP -> NNS *],\n",
       "   [Edge: [2:3] VP -> VV *]): True},\n",
       " [Edge: [3:4] CC -> 'with' *]: {([Edge: [3:4] 'with'],): True},\n",
       " [Edge: [2:4] VP -> VV CC *]: {([Edge: [2:3] VV -> 'play' *],\n",
       "   [Edge: [3:4] CC -> 'with' *]): True},\n",
       " [Edge: [0:4] S  -> NP VP * NP]: {([Edge: [0:2] NP -> JJ NNS *],\n",
       "   [Edge: [2:4] VP -> VV CC *]): True},\n",
       " [Edge: [1:4] S  -> NP VP * NP]: {([Edge: [1:2] NP -> NNS *],\n",
       "   [Edge: [2:4] VP -> VV CC *]): True},\n",
       " [Edge: [4:5] NNS -> 'mice' *]: {([Edge: [4:5] 'mice'],): True},\n",
       " [Edge: [4:5] NP -> NNS *]: {([Edge: [4:5] NNS -> 'mice' *],): True},\n",
       " [Edge: [4:5] NNS -> NNS * CC NNS]: {([Edge: [4:5] NNS -> 'mice' *],): True},\n",
       " [Edge: [4:5] S  -> NP * VP NP]: {([Edge: [4:5] NP -> NNS *],): True},\n",
       " [Edge: [4:5] NP -> NP * CC NP]: {([Edge: [4:5] NP -> NNS *],): True},\n",
       " [Edge: [0:5] S  -> NP VP NP *]: {([Edge: [0:2] NP -> JJ NNS *],\n",
       "   [Edge: [2:4] VP -> VV CC *],\n",
       "   [Edge: [4:5] NP -> NNS *]): True},\n",
       " [Edge: [1:5] S  -> NP VP NP *]: {([Edge: [1:2] NP -> NNS *],\n",
       "   [Edge: [2:4] VP -> VV CC *],\n",
       "   [Edge: [4:5] NP -> NNS *]): True}}"
      ]
     },
     "execution_count": 15,
     "metadata": {},
     "output_type": "execute_result"
    }
   ],
   "source": [
    "bottomUpLeftCornerChartEdges"
   ]
  },
  {
   "cell_type": "code",
   "execution_count": 16,
   "metadata": {},
   "outputs": [
    {
     "data": {
      "text/plain": [
       "{[Edge: [0:1] 'Lazy']: {(): True},\n",
       " [Edge: [1:2] 'cats']: {(): True},\n",
       " [Edge: [2:3] 'play']: {(): True},\n",
       " [Edge: [3:4] 'with']: {(): True},\n",
       " [Edge: [4:5] 'mice']: {(): True},\n",
       " [Edge: [0:1] JJ -> 'Lazy' *]: {([Edge: [0:1] 'Lazy'],): True},\n",
       " [Edge: [0:1] NP -> JJ * NNS]: {([Edge: [0:1] JJ -> 'Lazy' *],): True},\n",
       " [Edge: [1:2] NNS -> 'cats' *]: {([Edge: [1:2] 'cats'],): True},\n",
       " [Edge: [1:2] NP -> NNS *]: {([Edge: [1:2] NNS -> 'cats' *],): True},\n",
       " [Edge: [0:2] NP -> JJ NNS *]: {([Edge: [0:1] JJ -> 'Lazy' *],\n",
       "   [Edge: [1:2] NNS -> 'cats' *]): True},\n",
       " [Edge: [0:2] S  -> NP * VP NP]: {([Edge: [0:2] NP -> JJ NNS *],): True},\n",
       " [Edge: [1:2] S  -> NP * VP NP]: {([Edge: [1:2] NP -> NNS *],): True},\n",
       " [Edge: [2:3] VV -> 'play' *]: {([Edge: [2:3] 'play'],): True},\n",
       " [Edge: [2:3] VP -> VV * CC]: {([Edge: [2:3] VV -> 'play' *],): True},\n",
       " [Edge: [2:3] VP -> VV *]: {([Edge: [2:3] VV -> 'play' *],): True},\n",
       " [Edge: [3:4] CC -> 'with' *]: {([Edge: [3:4] 'with'],): True},\n",
       " [Edge: [2:4] VP -> VV CC *]: {([Edge: [2:3] VV -> 'play' *],\n",
       "   [Edge: [3:4] CC -> 'with' *]): True},\n",
       " [Edge: [0:4] S  -> NP VP * NP]: {([Edge: [0:2] NP -> JJ NNS *],\n",
       "   [Edge: [2:4] VP -> VV CC *]): True},\n",
       " [Edge: [1:4] S  -> NP VP * NP]: {([Edge: [1:2] NP -> NNS *],\n",
       "   [Edge: [2:4] VP -> VV CC *]): True},\n",
       " [Edge: [4:5] NNS -> 'mice' *]: {([Edge: [4:5] 'mice'],): True},\n",
       " [Edge: [4:5] NP -> NNS *]: {([Edge: [4:5] NNS -> 'mice' *],): True},\n",
       " [Edge: [0:5] S  -> NP VP NP *]: {([Edge: [0:2] NP -> JJ NNS *],\n",
       "   [Edge: [2:4] VP -> VV CC *],\n",
       "   [Edge: [4:5] NP -> NNS *]): True},\n",
       " [Edge: [1:5] S  -> NP VP NP *]: {([Edge: [1:2] NP -> NNS *],\n",
       "   [Edge: [2:4] VP -> VV CC *],\n",
       "   [Edge: [4:5] NP -> NNS *]): True}}"
      ]
     },
     "execution_count": 16,
     "metadata": {},
     "output_type": "execute_result"
    }
   ],
   "source": [
    "leftCornerChartEdges"
   ]
  },
  {
   "cell_type": "markdown",
   "metadata": {},
   "source": [
    "***"
   ]
  }
 ],
 "metadata": {
  "kernelspec": {
   "display_name": "Python 3.7.9 64-bit ('IHLT3.7': conda)",
   "language": "python",
   "name": "python37964bitihlt37conda7204be5f521f4785b21789281fd931be"
  },
  "language_info": {
   "codemirror_mode": {
    "name": "ipython",
    "version": 3
   },
   "file_extension": ".py",
   "mimetype": "text/x-python",
   "name": "python",
   "nbconvert_exporter": "python",
   "pygments_lexer": "ipython3",
   "version": "3.7.9"
  },
  "varInspector": {
   "cols": {
    "lenName": 16,
    "lenType": 16,
    "lenVar": 40
   },
   "kernels_config": {
    "python": {
     "delete_cmd_postfix": "",
     "delete_cmd_prefix": "del ",
     "library": "var_list.py",
     "varRefreshCmd": "print(var_dic_list())"
    },
    "r": {
     "delete_cmd_postfix": ") ",
     "delete_cmd_prefix": "rm(",
     "library": "var_list.r",
     "varRefreshCmd": "cat(var_dic_list()) "
    }
   },
   "types_to_exclude": [
    "module",
    "function",
    "builtin_function_or_method",
    "instance",
    "_Feature"
   ],
   "window_display": false
  }
 },
 "nbformat": 4,
 "nbformat_minor": 2
}
