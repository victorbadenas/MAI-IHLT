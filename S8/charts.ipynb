{
 "cells": [
  {
   "cell_type": "markdown",
   "metadata": {},
   "source": [
    "## Charts"
   ]
  },
  {
   "cell_type": "code",
   "execution_count": 1,
   "metadata": {},
   "outputs": [],
   "source": [
    "import nltk\n",
    "from nltk import CFG, ChartParser\n",
    "\n",
    "grammar = CFG.fromstring('''\n",
    "  NP  -> NNS | JJ NNS | NP CC NP\n",
    "  NNS -> \"cats\" | \"dogs\" | \"mice\" | NNS CC NNS \n",
    "  JJ  -> \"big\" | \"small\"\n",
    "  CC  -> \"and\" | \"or\"\n",
    "  ''')\n",
    "\n",
    "sent = ['small', 'cats', 'and', 'mice']\n",
    "\n",
    "parser = ChartParser(grammar)\n",
    "parse = parser.parse(sent)"
   ]
  },
  {
   "cell_type": "code",
   "execution_count": 2,
   "metadata": {},
   "outputs": [
    {
     "name": "stdout",
     "output_type": "stream",
     "text": [
      "number of trees: 2\n"
     ]
    }
   ],
   "source": [
    "ts = []\n",
    "for t in parse:\n",
    "    ts.append(t)\n",
    "print('number of trees:', len(ts))"
   ]
  },
  {
   "cell_type": "code",
   "execution_count": 3,
   "metadata": {},
   "outputs": [
    {
     "name": "stdout",
     "output_type": "stream",
     "text": [
      "(NP (JJ small) (NNS (NNS cats) (CC and) (NNS mice)))\n"
     ]
    },
    {
     "data": {
      "image/png": "[encoded data removed]",
      "text/plain": [
       "Tree('NP', [Tree('JJ', ['small']), Tree('NNS', [Tree('NNS', ['cats']), Tree('CC', ['and']), Tree('NNS', ['mice'])])])"
      ]
     },
     "execution_count": 3,
     "metadata": {},
     "output_type": "execute_result"
    }
   ],
   "source": [
    "print(ts[0])\n",
    "ts[0] "
   ]
  },
  {
   "cell_type": "code",
   "execution_count": 4,
   "metadata": {},
   "outputs": [
    {
     "name": "stdout",
     "output_type": "stream",
     "text": [
      "(NP (NP (JJ small) (NNS cats)) (CC and) (NP (NNS mice)))\n"
     ]
    },
    {
     "data": {
      "image/png": "[encoded data removed]",
      "text/plain": [
       "Tree('NP', [Tree('NP', [Tree('JJ', ['small']), Tree('NNS', ['cats'])]), Tree('CC', ['and']), Tree('NP', [Tree('NNS', ['mice'])])])"
      ]
     },
     "execution_count": 4,
     "metadata": {},
     "output_type": "execute_result"
    }
   ],
   "source": [
    "print(ts[1])\n",
    "ts[1]"
   ]
  },
  {
   "cell_type": "code",
   "execution_count": 5,
   "metadata": {},
   "outputs": [
    {
     "name": "stdout",
     "output_type": "stream",
     "text": [
      "TD num edges =  28\n"
     ]
    }
   ],
   "source": [
    "# achieve the list of applied edges\n",
    "parse = parser.chart_parse(['small', 'cats', 'and', 'mice'])\n",
    "print(\"TD num edges = \",parse.num_edges())"
   ]
  },
  {
   "cell_type": "code",
   "execution_count": 6,
   "metadata": {},
   "outputs": [
    {
     "data": {
      "text/plain": [
       "[[Edge: [0:1] 'small'],\n",
       " [Edge: [1:2] 'cats'],\n",
       " [Edge: [2:3] 'and'],\n",
       " [Edge: [3:4] 'mice'],\n",
       " [Edge: [0:1] JJ -> 'small' *],\n",
       " [Edge: [0:1] NP -> JJ * NNS],\n",
       " [Edge: [1:2] NNS -> 'cats' *],\n",
       " [Edge: [1:2] NP -> NNS *],\n",
       " [Edge: [1:2] NNS -> NNS * CC NNS],\n",
       " [Edge: [0:2] NP -> JJ NNS *],\n",
       " [Edge: [0:2] NP -> NP * CC NP],\n",
       " [Edge: [1:2] NP -> NP * CC NP],\n",
       " [Edge: [2:3] CC -> 'and' *],\n",
       " [Edge: [1:3] NNS -> NNS CC * NNS],\n",
       " [Edge: [0:3] NP -> NP CC * NP],\n",
       " [Edge: [1:3] NP -> NP CC * NP],\n",
       " [Edge: [3:4] NNS -> 'mice' *],\n",
       " [Edge: [3:4] NP -> NNS *],\n",
       " [Edge: [3:4] NNS -> NNS * CC NNS],\n",
       " [Edge: [1:4] NNS -> NNS CC NNS *],\n",
       " [Edge: [1:4] NP -> NNS *],\n",
       " [Edge: [1:4] NNS -> NNS * CC NNS],\n",
       " [Edge: [0:4] NP -> JJ NNS *],\n",
       " [Edge: [0:4] NP -> NP * CC NP],\n",
       " [Edge: [1:4] NP -> NP * CC NP],\n",
       " [Edge: [3:4] NP -> NP * CC NP],\n",
       " [Edge: [0:4] NP -> NP CC NP *],\n",
       " [Edge: [1:4] NP -> NP CC NP *]]"
      ]
     },
     "execution_count": 6,
     "metadata": {},
     "output_type": "execute_result"
    }
   ],
   "source": [
    "parse.edges()"
   ]
  },
  {
   "cell_type": "code",
   "execution_count": 7,
   "metadata": {},
   "outputs": [
    {
     "data": {
      "text/plain": [
       "2"
      ]
     },
     "execution_count": 7,
     "metadata": {},
     "output_type": "execute_result"
    }
   ],
   "source": [
    "from nltk import TopDownChartParser\n",
    "\n",
    "parser = nltk.TopDownChartParser(grammar)\n",
    "parse = parser.parse(sent)\n",
    "ts = []\n",
    "for t in parse:\n",
    "    ts.append(t)\n",
    "len(ts)"
   ]
  },
  {
   "cell_type": "code",
   "execution_count": 8,
   "metadata": {},
   "outputs": [
    {
     "name": "stdout",
     "output_type": "stream",
     "text": [
      "(NP (JJ small) (NNS (NNS cats) (CC and) (NNS mice)))\n"
     ]
    },
    {
     "data": {
      "image/png": "[encoded data removed]",
      "text/plain": [
       "Tree('NP', [Tree('JJ', ['small']), Tree('NNS', [Tree('NNS', ['cats']), Tree('CC', ['and']), Tree('NNS', ['mice'])])])"
      ]
     },
     "execution_count": 8,
     "metadata": {},
     "output_type": "execute_result"
    }
   ],
   "source": [
    "print(ts[0])\n",
    "ts[0] "
   ]
  },
  {
   "cell_type": "code",
   "execution_count": 9,
   "metadata": {},
   "outputs": [
    {
     "name": "stdout",
     "output_type": "stream",
     "text": [
      "(NP (NP (JJ small) (NNS cats)) (CC and) (NP (NNS mice)))\n"
     ]
    },
    {
     "data": {
      "image/png": "[encoded data removed]",
      "text/plain": [
       "Tree('NP', [Tree('NP', [Tree('JJ', ['small']), Tree('NNS', ['cats'])]), Tree('CC', ['and']), Tree('NP', [Tree('NNS', ['mice'])])])"
      ]
     },
     "execution_count": 9,
     "metadata": {},
     "output_type": "execute_result"
    }
   ],
   "source": [
    "print(ts[1])\n",
    "ts[1]"
   ]
  },
  {
   "cell_type": "code",
   "execution_count": null,
   "metadata": {},
   "outputs": [],
   "source": []
  }
 ],
 "metadata": {
  "kernelspec": {
   "display_name": "Python 3",
   "language": "python",
   "name": "python3"
  },
  "language_info": {
   "codemirror_mode": {
    "name": "ipython",
    "version": 3
   },
   "file_extension": ".py",
   "mimetype": "text/x-python",
   "name": "python",
   "nbconvert_exporter": "python",
   "pygments_lexer": "ipython3",
   "version": "3.6.8"
  }
 },
 "nbformat": 4,
 "nbformat_minor": 2
}
