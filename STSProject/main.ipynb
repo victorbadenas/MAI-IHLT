{
 "cells": [
  {
   "cell_type": "code",
   "execution_count": null,
   "metadata": {},
   "outputs": [],
   "source": [
    "import sys\n",
    "sys.path.append('src')"
   ]
  },
  {
   "cell_type": "markdown",
   "metadata": {},
   "source": [
    "***\n",
    "## Module Imports"
   ]
  },
  {
   "cell_type": "code",
   "execution_count": null,
   "metadata": {},
   "outputs": [],
   "source": [
    "import nltk\n",
    "import pandas as pd\n",
    "import numpy as np\n",
    "from scipy.stats import pearsonr\n",
    "from sklearn.preprocessing import StandardScaler\n",
    "from sklearn.svm import SVR\n",
    "from nltk.metrics.distance import jaccard_distance\n",
    "from collections.abc import Iterable\n",
    "from sklearn.model_selection import GridSearchCV, PredefinedSplit\n",
    "from sklearn.metrics import make_scorer"
   ]
  },
  {
   "cell_type": "code",
   "execution_count": null,
   "metadata": {},
   "outputs": [],
   "source": [
    "from data_utils import load_data\n",
    "from dimension.lexical import *\n",
    "from dimension.syntactical import *"
   ]
  },
  {
   "cell_type": "markdown",
   "metadata": {},
   "source": [
    "***\n",
    "## Data"
   ]
  },
  {
   "cell_type": "code",
   "execution_count": null,
   "metadata": {},
   "outputs": [],
   "source": [
    "train_data, test_data = load_data('data/')\n",
    "print(\n",
    "    f\"train_data samples: {len(train_data)}, test_data samples: {len(test_data)}\"\n",
    ")"
   ]
  },
  {
   "cell_type": "code",
   "execution_count": null,
   "metadata": {},
   "outputs": [],
   "source": [
    "train_data.head()"
   ]
  },
  {
   "cell_type": "code",
   "execution_count": null,
   "metadata": {},
   "outputs": [],
   "source": [
    "test_data.head()"
   ]
  },
  {
   "cell_type": "markdown",
   "metadata": {},
   "source": [
    "***\n",
    "## Similarity functions"
   ]
  },
  {
   "cell_type": "code",
   "execution_count": null,
   "metadata": {},
   "outputs": [],
   "source": [
    "def jaccard_similarity(s1, s2):\n",
    "    assert isinstance(s1, Iterable), f\"s1 must be an iterable, not {type(s1)}\"\n",
    "    assert isinstance(s2, Iterable), f\"s2 must be an iterable, not {type(s2)}\"\n",
    "    return 1 - jaccard_distance(set(s1), set(s2))"
   ]
  },
  {
   "cell_type": "code",
   "execution_count": null,
   "metadata": {},
   "outputs": [],
   "source": [
    "def overlap_similarity(s1, s2):\n",
    "    assert isinstance(s1, Iterable), f\"s1 must be an iterable, not {type(s1)}\"\n",
    "    assert isinstance(s2, Iterable), f\"s2 must be an iterable, not {type(s2)}\"\n",
    "    s1 = set(s1)\n",
    "    s2 = set(s2)\n",
    "    intersection = s1.intersection(s2)\n",
    "    return len(intersection) / min(len(s1), len(s2))"
   ]
  },
  {
   "cell_type": "code",
   "execution_count": null,
   "metadata": {},
   "outputs": [],
   "source": [
    "def cosine_similarity(s1, s2):\n",
    "    assert isinstance(s1, Iterable), f\"s1 must be an iterable, not {type(s1)}\"\n",
    "    assert isinstance(s2, Iterable), f\"s2 must be an iterable, not {type(s2)}\"\n",
    "    s1 = set(s1)\n",
    "    s2 = set(s2)\n",
    "    intersection = s1.intersection(s2)\n",
    "    return len(intersection) / ((len(s1) * len(s2))**2)"
   ]
  },
  {
   "cell_type": "code",
   "execution_count": null,
   "metadata": {},
   "outputs": [],
   "source": [
    "def dice_similarity(s1, s2):\n",
    "    assert isinstance(s1, Iterable), f\"s1 must be an iterable, not {type(s1)}\"\n",
    "    assert isinstance(s2, Iterable), f\"s2 must be an iterable, not {type(s2)}\"\n",
    "    s1 = set(s1)\n",
    "    s2 = set(s2)\n",
    "    intersection = s1.intersection(s2)\n",
    "    return 2 * len(intersection) / (len(s1) + len(s2))"
   ]
  },
  {
   "cell_type": "markdown",
   "metadata": {},
   "source": [
    "***\n",
    "## Feature loading"
   ]
  },
  {
   "cell_type": "markdown",
   "metadata": {},
   "source": [
    "### feature vector builder for dataframe of sentence pairs\n",
    "\n",
    "Declaration of the function responsible for the iteration over the dataframe containing the sentence pairs (other columns shall be unused). Requires the sentences columns' to be named `\"S1\"` and `\"S2\"`.\n",
    "\n",
    "Returns a numpy array of shape `(n_sentence_pairs, n_features)`"
   ]
  },
  {
   "cell_type": "code",
   "execution_count": null,
   "metadata": {},
   "outputs": [],
   "source": [
    "def get_features(df: pd.DataFrame):\n",
    "    assert \"S1\" in df.columns, \"S1 not in dataframe\"\n",
    "    assert \"S2\" in df.columns, \"S2 not in dataframe\"\n",
    "\n",
    "    features = [None] * len(df)   #preallocated for memory efficiency\n",
    "\n",
    "    for index, row in df.iterrows():\n",
    "        sentence1, sentence2 = row['S1'], row['S2']\n",
    "\n",
    "        # Get all words\n",
    "        tokenized_1, tokenized_2 = get_tokenized_sentences(\n",
    "            sentence1, sentence2, return_unique_words=False)\n",
    "        tokenized_lc_1, tokenized_lc_2 = get_tokenized_sentences_lowercase(\n",
    "            tokenized_1, tokenized_2, return_unique_words=False)\n",
    "\n",
    "        # Get words without stopwords\n",
    "        no_stopwords_1, no_stopwords_2 = filter_stopwords(\n",
    "            tokenized_1, tokenized_2, return_unique_words=False)\n",
    "        no_stopwords_lc_1, no_stopwords_lc_2 = filter_stopwords(\n",
    "            tokenized_lc_1, tokenized_lc_2, return_unique_words=False)\n",
    "\n",
    "        # Lemmas\n",
    "        lemmatized_1, lemmatized_2 = get_lemmas(tokenized_1,\n",
    "                                                tokenized_2,\n",
    "                                                return_unique_words=False)\n",
    "        lemmatized_lc_1, lemmatized_lc_2 = get_lemmas(\n",
    "            tokenized_lc_1, tokenized_lc_2, return_unique_words=False)\n",
    "\n",
    "        # Name entities\n",
    "        sentence_ne_1, sentence_ne_2 = get_named_entities(\n",
    "            tokenized_1, tokenized_2)\n",
    "        \n",
    "        #lemmas cleaned from stopwords\n",
    "        stopwords_and_lemmas1, stopwords_and_lemmas2 = get_lemmas(\n",
    "            no_stopwords_1, no_stopwords_2, return_unique_words=False)\n",
    "\n",
    "        stopwords_and_lemmas_lc_1, stopwords_and_lemmas_lc_2 = get_lemmas(\n",
    "            no_stopwords_lc_1, no_stopwords_lc_2, return_unique_words=False)\n",
    "        \n",
    "        # Name entities without stopwords in lowercase\n",
    "        ne_no_stopwords_1, ne_no_stopwords_2 = filter_stopwords(\n",
    "            sentence_ne_1, sentence_ne_2, return_unique_words=False, filter_and_return_in_lowercase=True)\n",
    "        \n",
    "        # Name entities without stopwords in lowercase and lemmas\n",
    "        ne_no_stopwords_lemmas_1, ne_no_stopwords_lemmas_2 = get_lemmas( ne_no_stopwords_1, ne_no_stopwords_2, \n",
    "                                                                        return_unique_words=False)\n",
    "\n",
    "        # Bigrams\n",
    "        bigrams_1, bigrams_2 = get_ngrams(no_stopwords_1, no_stopwords_2, n=2)\n",
    "        trigrams_1, trigrams_2 = get_ngrams(no_stopwords_1, no_stopwords_2, n=3)\n",
    "        \n",
    "        # Bigrams trigrams with sentence tokenizer \n",
    "        bigrams_sent_1, bigrams_sent_2 = get_ngrams_with_sent_tokenize(sentence1, sentence2, n=2)\n",
    "        trigrams_sent_1, trigrams_sent_2 = get_ngrams_with_sent_tokenize(sentence1, sentence2, n=3)\n",
    "        \n",
    "        # Lesk\n",
    "        lesk_1, lesk_2 = get_lesk_sentences(tokenized_1, tokenized_2)\n",
    "\n",
    "        # Stemmer\n",
    "        stemmed_1, stemmed_2 = get_stemmed_sentences(sentence1, sentence2)\n",
    "        \n",
    "        # ALL Features\n",
    "        features[index] = [\n",
    "            jaccard_similarity(tokenized_1, tokenized_2),\n",
    "            jaccard_similarity(tokenized_lc_1, tokenized_lc_2),\n",
    "            jaccard_similarity(no_stopwords_1, no_stopwords_2),\n",
    "            jaccard_similarity(no_stopwords_lc_1, no_stopwords_lc_2),\n",
    "            jaccard_similarity(lemmatized_1, lemmatized_2),\n",
    "            jaccard_similarity(lemmatized_lc_1, lemmatized_lc_2),\n",
    "            jaccard_similarity(sentence_ne_1, sentence_ne_2),\n",
    "            jaccard_similarity(stopwords_and_lemmas1, stopwords_and_lemmas2),\n",
    "            jaccard_similarity(stopwords_and_lemmas_lc_1, stopwords_and_lemmas_lc_2),\n",
    "            jaccard_similarity(bigrams_1, bigrams_2),\n",
    "            jaccard_similarity(trigrams_1, trigrams_2),\n",
    "            jaccard_similarity(bigrams_sent_1, bigrams_sent_2),\n",
    "            jaccard_similarity(trigrams_sent_1, trigrams_sent_2),\n",
    "            jaccard_similarity(lesk_1, lesk_2),\n",
    "            jaccard_similarity(stemmed_1, stemmed_2),\n",
    "            \n",
    "            dice_similarity(tokenized_1, tokenized_2),\n",
    "            dice_similarity(tokenized_lc_1, tokenized_lc_2),\n",
    "            dice_similarity(no_stopwords_1, no_stopwords_2),\n",
    "            dice_similarity(no_stopwords_lc_1, no_stopwords_lc_2),\n",
    "            dice_similarity(lemmatized_1, lemmatized_2),\n",
    "            dice_similarity(lemmatized_lc_1, lemmatized_lc_2),\n",
    "            dice_similarity(sentence_ne_1, sentence_ne_2),\n",
    "            dice_similarity(stopwords_and_lemmas1, stopwords_and_lemmas2),\n",
    "            dice_similarity(stopwords_and_lemmas_lc_1, stopwords_and_lemmas_lc_2),\n",
    "            dice_similarity(bigrams_1, bigrams_2),\n",
    "            dice_similarity(trigrams_1, trigrams_2),\n",
    "            dice_similarity(bigrams_sent_1, bigrams_sent_2),\n",
    "            dice_similarity(trigrams_sent_1, trigrams_sent_2),\n",
    "            dice_similarity(lesk_1, lesk_2),\n",
    "            dice_similarity(stemmed_1, stemmed_2)\n",
    "        ]\n",
    "        # BEST Features selection \n",
    "        \"\"\"features[index] = [\n",
    "        jaccard_similarity(tokenized_1, tokenized_2),\n",
    "        jaccard_similarity(no_stopwords_1, no_stopwords_2),\n",
    "        jaccard_similarity(lemmatized_1, lemmatized_2),\n",
    "        jaccard_similarity(bigrams_1, bigrams_2),\n",
    "        jaccard_similarity(trigrams_1, trigrams_2),\n",
    "        dice_similarity(tokenized_1, tokenized_2),\n",
    "        dice_similarity(no_stopwords_1, no_stopwords_2),\n",
    "        dice_similarity(no_stopwords_lc_1, no_stopwords_lc_2),\n",
    "        dice_similarity(sentence_ne_1, sentence_ne_2),\n",
    "        dice_similarity(bigrams_1, bigrams_2),\n",
    "        dice_similarity(trigrams_1, trigrams_2),\n",
    "        dice_similarity(stopwords_and_lemmas_lc_1, stopwords_and_lemmas_lc_2),\n",
    "        dice_similarity(lesk_1, lesk_2)\n",
    "        ]\"\"\"\n",
    "    return np.array(features)"
   ]
  },
  {
   "cell_type": "code",
   "execution_count": null,
   "metadata": {
    "pycharm": {
     "name": "#%%\n"
    }
   },
   "outputs": [],
   "source": [
    "# TEST CELL\n",
    "def show_sentences_with_applications(train_head, results):\n",
    "    for index, row in train_head.iterrows():\n",
    "        sentence1, sentence2 = row['S1'], row['S2']\n",
    "        gs = row['Gs']\n",
    "        print(f\"-{index}- ({gs})\")\n",
    "        print(sentence1)\n",
    "        print(sentence2)\n",
    "        if(results is not None):\n",
    "            for result in results:\n",
    "                print(\"-----------------------------\")\n",
    "                print(result[index][0])\n",
    "                print(result[index][1])\n",
    "        print(\"********************************************************\")\n",
    "        \n",
    "def apply_function(data, method_to_apply, params = None):\n",
    "    results = []\n",
    "    for sentence1, sentence2 in data:\n",
    "        if params is None:\n",
    "            result1, result2 = method_to_apply(sentence1, sentence2)\n",
    "        elif len(params) == 1:\n",
    "            result1, result2 = method_to_apply(sentence1, sentence2, params[0])\n",
    "        elif len(params) == 2:\n",
    "            result1, result2 = method_to_apply(sentence1, sentence2, params[0], params[1])  \n",
    "        results.append((result1, result2))\n",
    "    return results\n",
    "\n",
    "\n",
    "train_head = train_data.head()\n",
    "sentence_list = [(row['S1'], row['S2']) for index, row in train_head.iterrows()]\n",
    "\n",
    "results = []\n",
    "tokens = apply_function(sentence_list, get_tokenized_sentences)\n",
    "lesk = apply_function(tokens, get_lesk_sentences)\n",
    "results.append(lesk)\n",
    "\n",
    "\n",
    "show_sentences_with_applications(train_head, results)"
   ]
  },
  {
   "cell_type": "code",
   "execution_count": null,
   "metadata": {},
   "outputs": [],
   "source": [
    "# TEST cell don't delete it =D\n",
    "\n",
    "first = \"My Bonnie White lies over the ocean, in Picadilli Circus at 3:00pm.\"\n",
    "second = \"My Bonnie lied over the sea! Over the sea...\"\n",
    "\n",
    "tokenized_1, tokenized_2 = get_tokenized_sentences(first,\n",
    "                                                   second,\n",
    "                                                   return_unique_words=False)\n",
    "no_stopwords_1, no_stopwords_2 = filter_stopwords(tokenized_1, tokenized_2, return_unique_words=False)\n",
    "sentence_ne_1, sentence_ne_2 = get_named_entities(no_stopwords_1, no_stopwords_2)\n",
    "\n",
    "print(tokenized_1)\n",
    "print(tokenized_2)\n",
    "print(sentence_ne_1)\n",
    "print(sentence_ne_2)\n",
    "#TEST cell"
   ]
  },
  {
   "cell_type": "code",
   "execution_count": null,
   "metadata": {
    "scrolled": false
   },
   "outputs": [],
   "source": [
    "# TEST CELL\n",
    "def show_sentences_with_applications(train_head, results):\n",
    "    for index, row in train_head.iterrows():\n",
    "        sentence1, sentence2 = row['S1'], row['S2']\n",
    "        gs = row['Gs']\n",
    "        print(f\"-{index}- ({gs})\")\n",
    "        print(sentence1)\n",
    "        print(sentence2)\n",
    "        if(results is not None):\n",
    "            for result in results:\n",
    "                print(\"-----------------------------\")\n",
    "                print(result[index][0])\n",
    "                print(result[index][1])\n",
    "        print(\"********************************************************\")\n",
    "        \n",
    "def apply_function(data, method_to_apply, params = None):\n",
    "    results = []\n",
    "    for sentence1, sentence2 in data:\n",
    "        if params is None:\n",
    "            result1, result2 = method_to_apply(sentence1, sentence2)\n",
    "        elif len(params) == 1:\n",
    "            result1, result2 = method_to_apply(sentence1, sentence2, params[0])\n",
    "        elif len(params) == 2:\n",
    "            result1, result2 = method_to_apply(sentence1, sentence2, params[0], params[1])  \n",
    "        results.append((result1, result2))\n",
    "    return results\n",
    "\n",
    "\n",
    "train_head = train_data.head()\n",
    "sentence_list = [(row['S1'], row['S2']) for index, row in train_head.iterrows()]\n",
    "\n",
    "results = []\n",
    "tokens = apply_function(sentence_list, get_tokenized_sentences)\n",
    "results.append(tokens)\n",
    "\n",
    "show_sentences_with_applications(train_head, results)"
   ]
  },
  {
   "cell_type": "code",
   "execution_count": null,
   "metadata": {},
   "outputs": [],
   "source": [
    "# TEST cell don't delete it =D\n",
    "\n",
    "first = \"My Bonnie White lies over the ocean, in Picadilli Circus at 3:00pm.\"\n",
    "second = \"My Bonnie lied over the sea! Over the sea...\"\n",
    "\n",
    "tokenized_1, tokenized_2 = get_tokenized_sentences(first,\n",
    "                                                   second,\n",
    "                                                   return_unique_words=False)\n",
    "no_stopwords_1, no_stopwords_2 = filter_stopwords(tokenized_1, tokenized_2, return_unique_words=False)\n",
    "sentence_ne_1, sentence_ne_2 = get_named_entities(no_stopwords_1, no_stopwords_2)\n",
    "\n",
    "print(tokenized_1)\n",
    "print(tokenized_2)\n",
    "print(sentence_ne_1)\n",
    "print(sentence_ne_2)\n",
    "#TEST cell"
   ]
  },
  {
   "cell_type": "markdown",
   "metadata": {},
   "source": [
    "### Features extraction\n",
    "\n",
    "Using the function declared above, the features are extracted from the `train_data` dataframe. Also the Gold Standard is extracted from its column in the dataframe. The shapes for both numpy vectors are displayed. "
   ]
  },
  {
   "cell_type": "code",
   "execution_count": null,
   "metadata": {},
   "outputs": [],
   "source": [
    "train_features = get_features(train_data)\n",
    "train_gs = train_data['Gs'].to_numpy()\n",
    "print(f\"train_features.shape: {train_features.shape}\")\n",
    "print(f\"train_gs.shape: {train_gs.shape}\")"
   ]
  },
  {
   "cell_type": "code",
   "execution_count": null,
   "metadata": {
    "pycharm": {
     "name": "#%%\n"
    }
   },
   "outputs": [],
   "source": [
    "test_features = get_features(test_data)\n",
    "test_gs = test_data['Gs'].to_numpy()\n",
    "print(f\"train_features.shape: {test_features.shape}\")\n",
    "print(f\"train_gs.shape: {test_gs.shape}\")"
   ]
  },
  {
   "cell_type": "markdown",
   "metadata": {
    "pycharm": {
     "name": "#%% md\n"
    }
   },
   "source": [
    "### Feature scaling\n",
    "\n",
    "features are scaled using sklearns StandardScaler, where the mean is substracted for each feature and it's divided by the variance of the feature to obtain a unified feature space with zero mean and unit variance."
   ]
  },
  {
   "cell_type": "code",
   "execution_count": null,
   "metadata": {
    "pycharm": {
     "name": "#%%\n"
    }
   },
   "outputs": [],
   "source": [
    "scaler = StandardScaler()\n",
    "scaler.fit(train_features)\n",
    "train_features_scaled = scaler.transform(train_features)\n",
    "test_features_scaled = scaler.transform(test_features)"
   ]
  },
  {
   "cell_type": "markdown",
   "metadata": {},
   "source": [
    "### Split definition for GridSearch"
   ]
  },
  {
   "cell_type": "code",
   "execution_count": null,
   "metadata": {},
   "outputs": [],
   "source": [
    "all_data = np.concatenate([train_features_scaled, test_features_scaled])\n",
    "all_labels = np.concatenate([train_gs, test_gs])\n",
    "test_fold = np.array([-1]*train_features_scaled.shape[0] + [0]*test_features_scaled.shape[0])\n",
    "print(all_data.shape, test_fold.shape)\n",
    "ps = PredefinedSplit(test_fold)"
   ]
  },
  {
   "cell_type": "markdown",
   "metadata": {
    "pycharm": {
     "name": "#%% md\n"
    }
   },
   "source": [
    "### SVR Training"
   ]
  },
  {
   "cell_type": "code",
   "execution_count": null,
   "metadata": {
    "pycharm": {
     "name": "#%%\n"
    }
   },
   "outputs": [],
   "source": [
    "pearson_scorer = make_scorer(lambda y, y_hat: pearsonr(y, y_hat)[0])\n",
    "\n",
    "gammas = np.logspace(-6, -1, 6)\n",
    "Cs = np.array([0.5, 1, 2, 4, 8, 10, 15, 20, 50, 100, 200, 375, 500, 1000])\n",
    "epsilons = np.linspace(0.1, 1, 10)\n",
    "param = dict(gamma=gammas, C=Cs, epsilon=epsilons)\n",
    "\n",
    "svr = SVR(kernel='rbf', tol=1)\n",
    "gssvr = GridSearchCV(svr,\n",
    "                     param,\n",
    "                     cv=ps,\n",
    "                     scoring=pearson_scorer,\n",
    "                     n_jobs=-1,\n",
    "                     verbose=1)\n",
    "gssvr = gssvr.fit(all_data, all_labels)"
   ]
  },
  {
   "cell_type": "code",
   "execution_count": null,
   "metadata": {},
   "outputs": [],
   "source": [
    "best_parameters = gssvr.best_params_\n",
    "best_model = SVR(kernel='rbf', tol=1, **best_parameters)\n",
    "train_predictions = best_model.fit(train_features_scaled, train_gs).predict(train_features_scaled)"
   ]
  },
  {
   "cell_type": "markdown",
   "metadata": {
    "pycharm": {
     "name": "#%% md\n"
    }
   },
   "source": [
    "### Test Inference"
   ]
  },
  {
   "cell_type": "code",
   "execution_count": null,
   "metadata": {
    "pycharm": {
     "name": "#%%\n"
    }
   },
   "outputs": [],
   "source": [
    "test_predictions = best_model.predict(test_features_scaled)"
   ]
  },
  {
   "cell_type": "markdown",
   "metadata": {},
   "source": [
    "### Evaluation metrics"
   ]
  },
  {
   "cell_type": "code",
   "execution_count": null,
   "metadata": {
    "pycharm": {
     "name": "#%%\n"
    }
   },
   "outputs": [],
   "source": [
    "train_correlation = pearsonr(train_predictions, train_gs)[0]\n",
    "test_correlation = pearsonr(test_predictions, test_gs)[0]"
   ]
  },
  {
   "cell_type": "code",
   "execution_count": null,
   "metadata": {
    "pycharm": {
     "name": "#%%\n"
    }
   },
   "outputs": [],
   "source": [
    "print('Train pearsonr: ', train_correlation)\n",
    "print('Test pearsonr: ', test_correlation)\n",
    "print('The best value of gamma:', gssvr.best_estimator_.gamma)\n",
    "print('The best value of C:', gssvr.best_estimator_.C)\n",
    "print('The best value of epsilon:', gssvr.best_estimator_.epsilon)"
   ]
  },
  {
   "cell_type": "markdown",
   "metadata": {},
   "source": [
    "***"
   ]
  },
  {
   "cell_type": "markdown",
   "metadata": {
    "pycharm": {
     "name": "#%% md\n"
    }
   },
   "source": [
    "# Do not delete ;)\n",
    "\n",
    "## Recorded Results\n",
    "|SVR|jaccard|overlap|cosine|dice|jaccard+dice|no_stop_lc_dice|no_stop_lemmas_dice|no_stop_lemmas_lc_dice|forward_search_12_feats|mutual_info_sel_13_feats|pca_12_feats|forward_search_pca_6_feats|fs_pca_12_features|\n",
    "|---|---|---|---|---|---|---|---|---|---|---|---|---|---|\n",
    "|train correlation|0.6402|0.6233|0.3732|0.6397|0.6379|0.6017|0.6465|0.649|0.6544|0.6364|0.6454|0.6669|0.6485|\n",
    "|test_correlation|0.6208|0.6198|0.1056|0.6483|0.6087|0.5905|0.6634|0.652|0.6843|0.6428|0.665|0.6755|0.6848|\n",
    "|C|10.0|500.0|100.0|375.0|1000.0|2.0|100.0|500.0|15.0|20.0|500.0|20.0|2.0|\n",
    "|gamma|0.01|0.01|0.1|0.0001|0.001|0.1|0.01|1e-5|0.01|0.001|0.001|0.01|0.01|\n",
    "|epsilon|0.9|1.0|1.0|0.9|0.2|0.1|0.9|0.1|0.8|0.3|1.0|0.8|0.4|"
   ]
  }
 ],
 "metadata": {
  "kernelspec": {
   "display_name": "Python 3",
   "language": "python",
   "name": "python3"
  },
  "language_info": {
   "codemirror_mode": {
    "name": "ipython",
    "version": 3
   },
   "file_extension": ".py",
   "mimetype": "text/x-python",
   "name": "python",
   "nbconvert_exporter": "python",
   "pygments_lexer": "ipython3",
   "version": "3.8.3"
  },
  "varInspector": {
   "cols": {
    "lenName": 16,
    "lenType": 16,
    "lenVar": 40
   },
   "kernels_config": {
    "python": {
     "delete_cmd_postfix": "",
     "delete_cmd_prefix": "del ",
     "library": "var_list.py",
     "varRefreshCmd": "print(var_dic_list())"
    },
    "r": {
     "delete_cmd_postfix": ") ",
     "delete_cmd_prefix": "rm(",
     "library": "var_list.r",
     "varRefreshCmd": "cat(var_dic_list()) "
    }
   },
   "types_to_exclude": [
    "module",
    "function",
    "builtin_function_or_method",
    "instance",
    "_Feature"
   ],
   "window_display": false
  }
 },
 "nbformat": 4,
 "nbformat_minor": 2
}
