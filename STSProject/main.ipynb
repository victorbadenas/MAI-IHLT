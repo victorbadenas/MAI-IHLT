{
 "cells": [
  {
   "cell_type": "code",
   "execution_count": 1,
   "metadata": {},
   "outputs": [],
   "source": [
    "import sys\n",
    "sys.path.append('src')"
   ]
  },
  {
   "cell_type": "markdown",
   "metadata": {},
   "source": [
    "***\n",
    "## Module Imports"
   ]
  },
  {
   "cell_type": "code",
   "execution_count": 2,
   "metadata": {},
   "outputs": [],
   "source": [
    "import nltk\n",
    "import pandas as pd\n",
    "import numpy as np\n",
    "from scipy.stats import pearsonr\n",
    "from sklearn.preprocessing import StandardScaler\n",
    "from sklearn.svm import SVR\n",
    "from nltk.metrics.distance import jaccard_distance\n",
    "from collections.abc import Iterable\n",
    "from sklearn.model_selection import GridSearchCV\n",
    "from sklearn.metrics import make_scorer"
   ]
  },
  {
   "cell_type": "code",
   "execution_count": 3,
   "metadata": {},
   "outputs": [
    {
     "name": "stderr",
     "output_type": "stream",
     "text": [
      "[nltk_data] Downloading package stopwords to\n",
      "[nltk_data]     /Users/Andrea/nltk_data...\n",
      "[nltk_data]   Package stopwords is already up-to-date!\n",
      "[nltk_data] Downloading package averaged_perceptron_tagger to\n",
      "[nltk_data]     /Users/Andrea/nltk_data...\n",
      "[nltk_data]   Package averaged_perceptron_tagger is already up-to-\n",
      "[nltk_data]       date!\n"
     ]
    }
   ],
   "source": [
    "from data_utils import load_data\n",
    "from dimension.lexical import *\n",
    "from dimension.syntactical import *"
   ]
  },
  {
   "cell_type": "markdown",
   "metadata": {},
   "source": [
    "***\n",
    "## Data"
   ]
  },
  {
   "cell_type": "code",
   "execution_count": 4,
   "metadata": {},
   "outputs": [
    {
     "name": "stdout",
     "output_type": "stream",
     "text": [
      "train_data samples: 2234, test_data samples: 3108\n"
     ]
    }
   ],
   "source": [
    "train_data, test_data = load_data('data/')\n",
    "print(\n",
    "    f\"train_data samples: {len(train_data)}, test_data samples: {len(test_data)}\"\n",
    ")"
   ]
  },
  {
   "cell_type": "code",
   "execution_count": 5,
   "metadata": {},
   "outputs": [
    {
     "data": {
      "text/html": [
       "<div>\n",
       "<style scoped>\n",
       "    .dataframe tbody tr th:only-of-type {\n",
       "        vertical-align: middle;\n",
       "    }\n",
       "\n",
       "    .dataframe tbody tr th {\n",
       "        vertical-align: top;\n",
       "    }\n",
       "\n",
       "    .dataframe thead th {\n",
       "        text-align: right;\n",
       "    }\n",
       "</style>\n",
       "<table border=\"1\" class=\"dataframe\">\n",
       "  <thead>\n",
       "    <tr style=\"text-align: right;\">\n",
       "      <th></th>\n",
       "      <th>S1</th>\n",
       "      <th>S2</th>\n",
       "      <th>Gs</th>\n",
       "    </tr>\n",
       "  </thead>\n",
       "  <tbody>\n",
       "    <tr>\n",
       "      <th>0</th>\n",
       "      <td>But other sources close to the sale said Viven...</td>\n",
       "      <td>But other sources close to the sale said Viven...</td>\n",
       "      <td>4.00</td>\n",
       "    </tr>\n",
       "    <tr>\n",
       "      <th>1</th>\n",
       "      <td>Micron has declared its first quarterly profit...</td>\n",
       "      <td>Micron's numbers also marked the first quarter...</td>\n",
       "      <td>3.75</td>\n",
       "    </tr>\n",
       "    <tr>\n",
       "      <th>2</th>\n",
       "      <td>The fines are part of failed Republican effort...</td>\n",
       "      <td>Perry said he backs the Senate's efforts, incl...</td>\n",
       "      <td>2.80</td>\n",
       "    </tr>\n",
       "    <tr>\n",
       "      <th>3</th>\n",
       "      <td>The American Anglican Council, which represent...</td>\n",
       "      <td>The American Anglican Council, which represent...</td>\n",
       "      <td>3.40</td>\n",
       "    </tr>\n",
       "    <tr>\n",
       "      <th>4</th>\n",
       "      <td>The tech-loaded Nasdaq composite rose 20.96 po...</td>\n",
       "      <td>The technology-laced Nasdaq Composite Index &lt;....</td>\n",
       "      <td>2.40</td>\n",
       "    </tr>\n",
       "  </tbody>\n",
       "</table>\n",
       "</div>"
      ],
      "text/plain": [
       "                                                  S1  \\\n",
       "0  But other sources close to the sale said Viven...   \n",
       "1  Micron has declared its first quarterly profit...   \n",
       "2  The fines are part of failed Republican effort...   \n",
       "3  The American Anglican Council, which represent...   \n",
       "4  The tech-loaded Nasdaq composite rose 20.96 po...   \n",
       "\n",
       "                                                  S2    Gs  \n",
       "0  But other sources close to the sale said Viven...  4.00  \n",
       "1  Micron's numbers also marked the first quarter...  3.75  \n",
       "2  Perry said he backs the Senate's efforts, incl...  2.80  \n",
       "3  The American Anglican Council, which represent...  3.40  \n",
       "4  The technology-laced Nasdaq Composite Index <....  2.40  "
      ]
     },
     "execution_count": 5,
     "metadata": {},
     "output_type": "execute_result"
    }
   ],
   "source": [
    "train_data.head()"
   ]
  },
  {
   "cell_type": "code",
   "execution_count": 6,
   "metadata": {},
   "outputs": [
    {
     "data": {
      "text/html": [
       "<div>\n",
       "<style scoped>\n",
       "    .dataframe tbody tr th:only-of-type {\n",
       "        vertical-align: middle;\n",
       "    }\n",
       "\n",
       "    .dataframe tbody tr th {\n",
       "        vertical-align: top;\n",
       "    }\n",
       "\n",
       "    .dataframe thead th {\n",
       "        text-align: right;\n",
       "    }\n",
       "</style>\n",
       "<table border=\"1\" class=\"dataframe\">\n",
       "  <thead>\n",
       "    <tr style=\"text-align: right;\">\n",
       "      <th></th>\n",
       "      <th>S1</th>\n",
       "      <th>S2</th>\n",
       "      <th>Gs</th>\n",
       "    </tr>\n",
       "  </thead>\n",
       "  <tbody>\n",
       "    <tr>\n",
       "      <th>0</th>\n",
       "      <td>The problem likely will mean corrective change...</td>\n",
       "      <td>He said the problem needs to be corrected befo...</td>\n",
       "      <td>4.4</td>\n",
       "    </tr>\n",
       "    <tr>\n",
       "      <th>1</th>\n",
       "      <td>The technology-laced Nasdaq Composite Index .I...</td>\n",
       "      <td>The broad Standard &amp; Poor's 500 Index .SPX inc...</td>\n",
       "      <td>0.8</td>\n",
       "    </tr>\n",
       "    <tr>\n",
       "      <th>2</th>\n",
       "      <td>\"It's a huge black eye,\" said publisher Arthur...</td>\n",
       "      <td>\"It's a huge black eye,\" Arthur Sulzberger, th...</td>\n",
       "      <td>3.6</td>\n",
       "    </tr>\n",
       "    <tr>\n",
       "      <th>3</th>\n",
       "      <td>SEC Chairman William Donaldson said there is a...</td>\n",
       "      <td>\"I think there's a building confidence that th...</td>\n",
       "      <td>3.4</td>\n",
       "    </tr>\n",
       "    <tr>\n",
       "      <th>4</th>\n",
       "      <td>Vivendi shares closed 1.9 percent at 15.80 eur...</td>\n",
       "      <td>In New York, Vivendi shares were 1.4 percent d...</td>\n",
       "      <td>1.4</td>\n",
       "    </tr>\n",
       "  </tbody>\n",
       "</table>\n",
       "</div>"
      ],
      "text/plain": [
       "                                                  S1  \\\n",
       "0  The problem likely will mean corrective change...   \n",
       "1  The technology-laced Nasdaq Composite Index .I...   \n",
       "2  \"It's a huge black eye,\" said publisher Arthur...   \n",
       "3  SEC Chairman William Donaldson said there is a...   \n",
       "4  Vivendi shares closed 1.9 percent at 15.80 eur...   \n",
       "\n",
       "                                                  S2   Gs  \n",
       "0  He said the problem needs to be corrected befo...  4.4  \n",
       "1  The broad Standard & Poor's 500 Index .SPX inc...  0.8  \n",
       "2  \"It's a huge black eye,\" Arthur Sulzberger, th...  3.6  \n",
       "3  \"I think there's a building confidence that th...  3.4  \n",
       "4  In New York, Vivendi shares were 1.4 percent d...  1.4  "
      ]
     },
     "execution_count": 6,
     "metadata": {},
     "output_type": "execute_result"
    }
   ],
   "source": [
    "test_data.head()"
   ]
  },
  {
   "cell_type": "markdown",
   "metadata": {},
   "source": [
    "***\n",
    "## Similarity functions"
   ]
  },
  {
   "cell_type": "code",
   "execution_count": 7,
   "metadata": {},
   "outputs": [],
   "source": [
    "def jaccard_similarity(s1, s2):\n",
    "    assert isinstance(s1, Iterable), f\"s1 must be an iterable, not {type(s1)}\"\n",
    "    assert isinstance(s2, Iterable), f\"s2 must be an iterable, not {type(s2)}\"\n",
    "    return 1 - jaccard_distance(set(s1), set(s2))"
   ]
  },
  {
   "cell_type": "code",
   "execution_count": 8,
   "metadata": {},
   "outputs": [],
   "source": [
    "def overlap_similarity(s1, s2):\n",
    "    assert isinstance(s1, Iterable), f\"s1 must be an iterable, not {type(s1)}\"\n",
    "    assert isinstance(s2, Iterable), f\"s2 must be an iterable, not {type(s2)}\"\n",
    "    s1 = set(s1)\n",
    "    s2 = set(s2)\n",
    "    intersection = s1.intersection(s2)\n",
    "    return len(intersection) / min(len(s1), len(s2))"
   ]
  },
  {
   "cell_type": "code",
   "execution_count": 9,
   "metadata": {},
   "outputs": [],
   "source": [
    "def cosine_similarity(s1, s2):\n",
    "    assert isinstance(s1, Iterable), f\"s1 must be an iterable, not {type(s1)}\"\n",
    "    assert isinstance(s2, Iterable), f\"s2 must be an iterable, not {type(s2)}\"\n",
    "    s1 = set(s1)\n",
    "    s2 = set(s2)\n",
    "    intersection = s1.intersection(s2)\n",
    "    return len(intersection) / ((len(s1) * len(s2))**2)"
   ]
  },
  {
   "cell_type": "code",
   "execution_count": 10,
   "metadata": {},
   "outputs": [],
   "source": [
    "def dice_similarity(s1, s2):\n",
    "    assert isinstance(s1, Iterable), f\"s1 must be an iterable, not {type(s1)}\"\n",
    "    assert isinstance(s2, Iterable), f\"s2 must be an iterable, not {type(s2)}\"\n",
    "    s1 = set(s1)\n",
    "    s2 = set(s2)\n",
    "    intersection = s1.intersection(s2)\n",
    "    return 2 * len(intersection) / (len(s1) + len(s2))"
   ]
  },
  {
   "cell_type": "markdown",
   "metadata": {},
   "source": [
    "***\n",
    "## Feature loading"
   ]
  },
  {
   "cell_type": "markdown",
   "metadata": {},
   "source": [
    "### feature vector builder for dataframe of sentence pairs\n",
    "\n",
    "Declaration of the function responsible for the iteration over the dataframe containing the sentence pairs (other columns shall be unused). Requires the sentences columns' to be named `\"S1\"` and `\"S2\"`.\n",
    "\n",
    "Returns a numpy array of shape `(n_sentence_pairs, n_features)`"
   ]
  },
  {
   "cell_type": "code",
   "execution_count": 11,
   "metadata": {},
   "outputs": [],
   "source": [
    "def get_features(df: pd.DataFrame):\n",
    "    assert \"S1\" in df.columns, \"S1 not in dataframe\"\n",
    "    assert \"S2\" in df.columns, \"S2 not in dataframe\"\n",
    "\n",
    "    features = [None] * len(df)   #preallocated for memory efficiency\n",
    "\n",
    "    for index, row in df.iterrows():\n",
    "        sentence1, sentence2 = row['S1'], row['S2']\n",
    "\n",
    "        # Get all words\n",
    "        tokenized_1, tokenized_2 = get_tokenized_sentences(\n",
    "            sentence1, sentence2, return_unique_words=False)\n",
    "        tokenized_lc_1, tokenized_lc_2 = get_tokenized_sentences_lowercase(\n",
    "            tokenized_1, tokenized_2, return_unique_words=False)\n",
    "\n",
    "        # Get words without stopwords\n",
    "        no_stopwords_1, no_stopwords_2 = get_tokenized_without_stopwords(\n",
    "            tokenized_1, tokenized_2, return_unique_words=False)\n",
    "        no_stopwords_lc_1, no_stopwords_lc_2 = get_tokenized_without_stopwords(\n",
    "            tokenized_lc_1, tokenized_lc_2, return_unique_words=False)\n",
    "\n",
    "        # Lemmas\n",
    "        lemmatized_1, lemmatized_2 = get_lemmas(tokenized_1,\n",
    "                                                tokenized_2,\n",
    "                                                return_unique_words=False)\n",
    "        lemmatized_lc_1, lemmatized_lc_2 = get_lemmas(\n",
    "            tokenized_lc_1, tokenized_lc_2, return_unique_words=False)\n",
    "\n",
    "        # Name entities\n",
    "        sentence_ne_1, sentence_ne_2 = get_named_entities(\n",
    "            tokenized_1, tokenized_2)\n",
    "\n",
    "        # Bigrams\n",
    "        bigrams_1, bigrams_2 = get_ngrams(sentence1, sentence2, n=2)\n",
    "        trigrams_1, trigrams_2 = get_ngrams(sentence1, sentence2, n=3)\n",
    "\n",
    "        stopwords_and_lemmas1, stopwords_and_lemmas2 = get_lemmas(\n",
    "            no_stopwords_1, no_stopwords_2, return_unique_words=False)\n",
    "\n",
    "        stopwords_and_lemmas_lc_1, stopwords_and_lemmas_lc_2 = get_lemmas(\n",
    "            no_stopwords_lc_1, no_stopwords_lc_2, return_unique_words=False)\n",
    "\n",
    "        # Features\n",
    "        \"\"\"features[index] = [\n",
    "                         jaccard_similarity(tokenized_1, tokenized_2),\n",
    "                         jaccard_similarity(tokenized_lc_1, tokenized_lc_2),\n",
    "                         jaccard_similarity(no_stopwords_1, no_stopwords_2),\n",
    "                         jaccard_similarity(no_stopwords_lc_1, no_stopwords_lc_2),\n",
    "                         jaccard_similarity(lemmatized_1, lemmatized_2),\n",
    "                         jaccard_similarity(lemmatized_lc_1, lemmatized_lc_2),\n",
    "                         jaccard_similarity(sentence_ne_1, sentence_ne_2),\n",
    "                         jaccard_similarity(bigrams_1, bigrams_2),\n",
    "                         jaccard_similarity(trigrams_1, trigrams_2),\n",
    "                         jaccard_similarity(stopwords_and_lemmas1, stopwords_and_lemmas2),\n",
    "                         jaccard_similarity(stopwords_and_lemmas_lc_1, stopwords_and_lemmas_lc_2),\n",
    "                         overlap_similarity(tokenized_1, tokenized_2),\n",
    "                         overlap_similarity(tokenized_lc_1, tokenized_lc_2),\n",
    "                         overlap_similarity(no_stopwords_1, no_stopwords_2),\n",
    "                         overlap_similarity(no_stopwords_lc_1, no_stopwords_lc_2),\n",
    "                         overlap_similarity(lemmatized_1, lemmatized_2),\n",
    "                         overlap_similarity(lemmatized_lc_1, lemmatized_lc_2),\n",
    "                         overlap_similarity(sentence_ne_1, sentence_ne_2),\n",
    "                         overlap_similarity(bigrams_1, bigrams_2),\n",
    "                         overlap_similarity(trigrams_1, trigrams_2),\n",
    "                         overlap_similarity(stopwords_and_lemmas1, stopwords_and_lemmas2),\n",
    "                         overlap_similarity(stopwords_and_lemmas_lc_1, stopwords_and_lemmas_lc_2),\n",
    "                         cosine_similarity(tokenized_1, tokenized_2),\n",
    "                         cosine_similarity(tokenized_lc_1, tokenized_lc_2),\n",
    "                         cosine_similarity(no_stopwords_1, no_stopwords_2),\n",
    "                         cosine_similarity(no_stopwords_lc_1, no_stopwords_lc_2),\n",
    "                         cosine_similarity(lemmatized_1, lemmatized_2),\n",
    "                         cosine_similarity(lemmatized_lc_1, lemmatized_lc_2),\n",
    "                         cosine_similarity(sentence_ne_1, sentence_ne_2),\n",
    "                         cosine_similarity(bigrams_1, bigrams_2),\n",
    "                         cosine_similarity(trigrams_1, trigrams_2),\n",
    "                         cosine_similarity(stopwords_and_lemmas1, stopwords_and_lemmas2),\n",
    "                         cosine_similarity(stopwords_and_lemmas_lc_1, stopwords_and_lemmas_lc_2),\n",
    "            dice_similarity(tokenized_1, tokenized_2),\n",
    "            dice_similarity(tokenized_lc_1, tokenized_lc_2),\n",
    "            dice_similarity(no_stopwords_1, no_stopwords_2),\n",
    "            dice_similarity(no_stopwords_lc_1, no_stopwords_lc_2),\n",
    "            dice_similarity(lemmatized_1, lemmatized_2),\n",
    "            dice_similarity(lemmatized_lc_1, lemmatized_lc_2),\n",
    "            dice_similarity(sentence_ne_1, sentence_ne_2),\n",
    "            dice_similarity(bigrams_1, bigrams_2),\n",
    "            dice_similarity(trigrams_1, trigrams_2),\n",
    "            dice_similarity(stopwords_and_lemmas1, stopwords_and_lemmas2),\n",
    "            dice_similarity(stopwords_and_lemmas_lc_1, stopwords_and_lemmas_lc_2),\n",
    "        ]\"\"\"\n",
    "        # BEST Features selection \n",
    "        features[index] = [\n",
    "        jaccard_similarity(tokenized_1, tokenized_2),\n",
    "        #jaccard_similarity(tokenized_lc_1, tokenized_lc_2),\n",
    "        jaccard_similarity(no_stopwords_1, no_stopwords_2),\n",
    "        #jaccard_similarity(no_stopwords_lc_1, no_stopwords_lc_2),\n",
    "        jaccard_similarity(lemmatized_1, lemmatized_2),\n",
    "        #jaccard_similarity(lemmatized_lc_1, lemmatized_lc_2),\n",
    "        #jaccard_similarity(sentence_ne_1, sentence_ne_2),\n",
    "        jaccard_similarity(bigrams_1, bigrams_2),\n",
    "        jaccard_similarity(trigrams_1, trigrams_2),\n",
    "        #jaccard_similarity(stopwords_and_lemmas1, stopwords_and_lemmas2),\n",
    "        #jaccard_similarity(stopwords_and_lemmas_lc_1, stopwords_and_lemmas_lc_2),\n",
    "        dice_similarity(tokenized_1, tokenized_2),\n",
    "        #dice_similarity(tokenized_lc_1, tokenized_lc_2),\n",
    "        dice_similarity(no_stopwords_1, no_stopwords_2),\n",
    "        dice_similarity(no_stopwords_lc_1, no_stopwords_lc_2),\n",
    "        #dice_similarity(lemmatized_1, lemmatized_2),\n",
    "        #dice_similarity(lemmatized_lc_1, lemmatized_lc_2),\n",
    "        dice_similarity(sentence_ne_1, sentence_ne_2),\n",
    "        dice_similarity(bigrams_1, bigrams_2),\n",
    "        dice_similarity(trigrams_1, trigrams_2),\n",
    "        #dice_similarity(stopwords_and_lemmas1, stopwords_and_lemmas2),\n",
    "        dice_similarity(stopwords_and_lemmas_lc_1, stopwords_and_lemmas_lc_2),\n",
    "        ]\n",
    "    return np.array(features)"
   ]
  },
  {
   "cell_type": "code",
   "execution_count": 12,
   "metadata": {},
   "outputs": [
    {
     "name": "stdout",
     "output_type": "stream",
     "text": [
      "['My', 'Bonnie', 'White', 'lies', 'over', 'the', 'ocean', ',', 'in', 'Picadilli', 'Circus', 'at', '3:00pm', '.']\n",
      "['My', 'Bonnie', 'lied', 'over', 'the', 'sea', '!', 'Over', 'the', 'sea', '...']\n",
      "['My', 'Bonnie White', 'lies', 'ocean', 'Picadilli Circus', '3:00pm']\n",
      "['My', 'Bonnie', 'lied', 'sea', 'Over', 'sea', '...']\n"
     ]
    }
   ],
   "source": [
    "# TEST cell don't delete it =D\n",
    "\n",
    "first = \"My Bonnie White lies over the ocean, in Picadilli Circus at 3:00pm.\"\n",
    "second = \"My Bonnie lied over the sea! Over the sea...\"\n",
    "\n",
    "tokenized_1, tokenized_2 = get_tokenized_sentences(first,\n",
    "                                                   second,\n",
    "                                                   return_unique_words=False)\n",
    "no_stopwords_1, no_stopwords_2 = get_tokenized_without_stopwords(tokenized_1, tokenized_2, return_unique_words=False)\n",
    "sentence_ne_1, sentence_ne_2 = get_named_entities(no_stopwords_1, no_stopwords_2)\n",
    "\n",
    "print(tokenized_1)\n",
    "print(tokenized_2)\n",
    "print(sentence_ne_1)\n",
    "print(sentence_ne_2)\n",
    "#TEST cell"
   ]
  },
  {
   "cell_type": "markdown",
   "metadata": {},
   "source": [
    "### Train features extraction\n",
    "\n",
    "Using the function declared above, the features are extracted from the `train_data` dataframe. Also the Gold Standard is extracted from its column in the dataframe. The shapes for both numpy vectors are displayed. "
   ]
  },
  {
   "cell_type": "code",
   "execution_count": null,
   "metadata": {},
   "outputs": [],
   "source": [
    "train_features = get_features(train_data)\n",
    "train_gs = train_data['Gs'].to_numpy()\n",
    "print(f\"train_features.shape: {train_features.shape}\")\n",
    "print(f\"train_gs.shape: {train_gs.shape}\")"
   ]
  },
  {
   "cell_type": "code",
   "execution_count": null,
   "metadata": {
    "pycharm": {
     "name": "#%%\n"
    }
   },
   "outputs": [],
   "source": [
    "from sklearn.feature_selection import mutual_info_regression\n",
    "from sklearn.decomposition import PCA"
   ]
  },
  {
   "cell_type": "markdown",
   "metadata": {
    "pycharm": {
     "name": "#%% md\n"
    }
   },
   "source": [
    "### Feature scaling\n",
    "\n",
    "features are scaled using sklearns StandardScaler, where the mean is substracted for each feature and it's divided by the variance of the feature to obtain a unified feature space with zero mean and unit variance."
   ]
  },
  {
   "cell_type": "code",
   "execution_count": null,
   "metadata": {
    "pycharm": {
     "name": "#%%\n"
    }
   },
   "outputs": [],
   "source": [
    "# mir = mutual_info_regression(train_features, train_gs)\n",
    "# best_features = np.argsort(mir)[::-1][:13]\n",
    "# train_features = train_features[:, best_features]"
   ]
  },
  {
   "cell_type": "code",
   "execution_count": null,
   "metadata": {},
   "outputs": [],
   "source": [
    "# pca = PCA(n_components=12)\n",
    "# train_features = pca.fit_transform(train_features)"
   ]
  },
  {
   "cell_type": "code",
   "execution_count": null,
   "metadata": {
    "pycharm": {
     "name": "#%%\n"
    }
   },
   "outputs": [],
   "source": [
    "scaler = StandardScaler()\n",
    "scaler.fit(train_features)\n",
    "train_features_scaled = scaler.transform(train_features)"
   ]
  },
  {
   "cell_type": "markdown",
   "metadata": {
    "pycharm": {
     "name": "#%% md\n"
    }
   },
   "source": [
    "### SVR Training"
   ]
  },
  {
   "cell_type": "code",
   "execution_count": null,
   "metadata": {
    "pycharm": {
     "name": "#%%\n"
    }
   },
   "outputs": [],
   "source": [
    "pearson_scorer = make_scorer(lambda y, y_hat: pearsonr(y, y_hat)[0])\n",
    "\n",
    "gammas = np.logspace(-6, -1, 6)\n",
    "Cs = np.array([0.5, 1, 2, 4, 8, 10, 15, 20, 50, 100, 200, 375, 500, 1000])\n",
    "epsilons = np.linspace(0.1, 1, 10)\n",
    "param = dict(gamma=gammas, C=Cs, epsilon=epsilons)\n",
    "\n",
    "svr = SVR(kernel='rbf', tol=1)\n",
    "gssvr = GridSearchCV(svr,\n",
    "                     param,\n",
    "                     cv=5,\n",
    "                     scoring=pearson_scorer,\n",
    "                     n_jobs=-1,\n",
    "                     verbose=1)\n",
    "gssvr = gssvr.fit(train_features_scaled, train_gs)"
   ]
  },
  {
   "cell_type": "markdown",
   "metadata": {
    "pycharm": {
     "name": "#%% md\n"
    }
   },
   "source": [
    "### Test features extraction"
   ]
  },
  {
   "cell_type": "code",
   "execution_count": null,
   "metadata": {
    "pycharm": {
     "name": "#%%\n"
    }
   },
   "outputs": [],
   "source": [
    "test_features = get_features(test_data)\n",
    "test_gs = test_data['Gs'].to_numpy()\n",
    "print(f\"train_features.shape: {test_features.shape}\")\n",
    "print(f\"train_gs.shape: {test_gs.shape}\")"
   ]
  },
  {
   "cell_type": "markdown",
   "metadata": {
    "pycharm": {
     "name": "#%% md\n"
    }
   },
   "source": [
    "### Test Inference"
   ]
  },
  {
   "cell_type": "code",
   "execution_count": null,
   "metadata": {},
   "outputs": [],
   "source": [
    "# test_features = test_features[:, best_features]\n",
    "# test_features = pca.transform(test_features)"
   ]
  },
  {
   "cell_type": "code",
   "execution_count": null,
   "metadata": {
    "pycharm": {
     "name": "#%%\n"
    }
   },
   "outputs": [],
   "source": [
    "test_features_scaled = scaler.transform(test_features)"
   ]
  },
  {
   "cell_type": "code",
   "execution_count": null,
   "metadata": {
    "pycharm": {
     "name": "#%%\n"
    }
   },
   "outputs": [],
   "source": [
    "predictions = gssvr.predict(test_features_scaled)"
   ]
  },
  {
   "cell_type": "markdown",
   "metadata": {},
   "source": [
    "### Evaluation metrics"
   ]
  },
  {
   "cell_type": "code",
   "execution_count": null,
   "metadata": {
    "pycharm": {
     "name": "#%%\n"
    }
   },
   "outputs": [],
   "source": [
    "correlation = pearsonr(predictions, test_gs)[0]"
   ]
  },
  {
   "cell_type": "code",
   "execution_count": null,
   "metadata": {
    "pycharm": {
     "name": "#%%\n"
    }
   },
   "outputs": [],
   "source": [
    "print('The best 5fold train pearsonr:', gssvr.best_score_)\n",
    "print(f\"Test pearsonr: {correlation}\")\n",
    "print('The best value of gamma:', gssvr.best_estimator_.gamma)\n",
    "print('The best value of C:', gssvr.best_estimator_.C)\n",
    "print('The best value of epsilon:', gssvr.best_estimator_.epsilon)"
   ]
  },
  {
   "cell_type": "markdown",
   "metadata": {},
   "source": [
    "***"
   ]
  },
  {
   "cell_type": "markdown",
   "metadata": {},
   "source": [
    "# Do not delete ;)\n",
    "\n",
    "## Recorded Results\n",
    "|SVR|jaccard|overlap|cosine|dice|jaccard+dice|no_stop_lc_dice|no_stop_lemmas_dice|no_stop_lemmas_lc_dice|forward_search_12_feats|mutual_info_sel_13_feats|pca_12_feats|forward_search_pca_6_feats|fs_pca_12_features|\n",
    "|---|---|---|---|---|---|---|---|---|---|---|---|---|---|\n",
    "|train correlation|0.6402|0.6233|0.3732|0.6397|0.6379|0.6017|0.6465|0.649|0.6544|0.6364|0.6454|0.6669|0.6485|\n",
    "|test_correlation|0.6208|0.6198|0.1056|0.6483|0.6087|0.5905|0.6634|0.652|0.6843|0.6428|0.665|0.6755|0.6848|\n",
    "|C|10.0|500.0|100.0|375.0|1000.0|2.0|100.0|500.0|15.0|20.0|500.0|20.0|2.0|\n",
    "|gamma|0.01|0.01|0.1|0.0001|0.001|0.1|0.01|1e-5|0.01|0.001|0.001|0.01|0.01|\n",
    "|epsilon|0.9|1.0|1.0|0.9|0.2|0.1|0.9|0.1|0.8|0.3|1.0|0.8|0.4|"
   ]
  },
  {
   "cell_type": "markdown",
   "metadata": {},
   "source": []
  },
  {
   "cell_type": "code",
   "execution_count": null,
   "metadata": {},
   "outputs": [],
   "source": [
    "correlation = pearsonr(predictions, test_gs)[0]"
   ]
  },
  {
   "cell_type": "code",
   "execution_count": null,
   "metadata": {},
   "outputs": [],
   "source": [
    "print('The best 5fold train pearsonr:', gssvr.best_score_)\n",
    "print(f\"Test pearsonr: {correlation}\")\n",
    "print('The best value of gamma:', gssvr.best_estimator_.gamma)\n",
    "print('The best value of C:', gssvr.best_estimator_.C)\n",
    "print('The best value of epsilon:', gssvr.best_estimator_.epsilon)"
   ]
  },
  {
   "cell_type": "markdown",
   "metadata": {},
   "source": [
    "***"
   ]
  },
  {
   "cell_type": "markdown",
   "metadata": {},
   "source": [
    "# Do not delete ;)\n",
    "\n",
    "## Recorded Results\n",
    "|SVR|jaccard|overlap|cosine|dice|jaccard+dice|no_stop_lc_dice|no_stop_lemmas_dice|no_stop_lemmas_lc_dice|forward_search_12_feats|mutual_info_sel_13_feats|pca_12_feats|forward_search_pca_6_feats|fs_pca_12_features|\n",
    "|---|---|---|---|---|---|---|---|---|---|---|---|---|---|\n",
    "|train correlation|0.6402|0.6233|0.3732|0.6397|0.6379|0.6017|0.6465|0.649|0.6544|0.6364|0.6454|0.6669|0.6485|\n",
    "|test_correlation|0.6208|0.6198|0.1056|0.6483|0.6087|0.5905|0.6634|0.652|0.6843|0.6428|0.665|0.6755|0.6848|\n",
    "|C|10.0|500.0|100.0|375.0|1000.0|2.0|100.0|500.0|15.0|20.0|500.0|20.0|2.0|\n",
    "|gamma|0.01|0.01|0.1|0.0001|0.001|0.1|0.01|1e-5|0.01|0.001|0.001|0.01|0.01|\n",
    "|epsilon|0.9|1.0|1.0|0.9|0.2|0.1|0.9|0.1|0.8|0.3|1.0|0.8|0.4|"
   ]
  },
  {
   "cell_type": "code",
   "execution_count": null,
   "metadata": {},
   "outputs": [],
   "source": []
  }
 ],
 "metadata": {
  "kernelspec": {
   "display_name": "Python 3",
   "language": "python",
   "name": "python3"
  },
  "language_info": {
   "codemirror_mode": {
    "name": "ipython",
    "version": 3
   },
   "file_extension": ".py",
   "mimetype": "text/x-python",
   "name": "python",
   "nbconvert_exporter": "python",
   "pygments_lexer": "ipython3",
   "version": "3.7.9"
  },
  "varInspector": {
   "cols": {
    "lenName": 16,
    "lenType": 16,
    "lenVar": 40
   },
   "kernels_config": {
    "python": {
     "delete_cmd_postfix": "",
     "delete_cmd_prefix": "del ",
     "library": "var_list.py",
     "varRefreshCmd": "print(var_dic_list())"
    },
    "r": {
     "delete_cmd_postfix": ") ",
     "delete_cmd_prefix": "rm(",
     "library": "var_list.r",
     "varRefreshCmd": "cat(var_dic_list()) "
    }
   },
   "types_to_exclude": [
    "module",
    "function",
    "builtin_function_or_method",
    "instance",
    "_Feature"
   ],
   "window_display": false
  }
 },
 "nbformat": 4,
 "nbformat_minor": 2
}