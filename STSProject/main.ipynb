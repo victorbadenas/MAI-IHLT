{
 "cells": [
  {
   "cell_type": "code",
   "execution_count": null,
   "metadata": {},
   "outputs": [],
   "source": [
    "import sys\n",
    "sys.path.append('src')"
   ]
  },
  {
   "cell_type": "markdown",
   "metadata": {},
   "source": [
    "***\n",
    "## Module Imports"
   ]
  },
  {
   "cell_type": "code",
   "execution_count": null,
   "metadata": {},
   "outputs": [],
   "source": [
    "import nltk\n",
    "import pandas as pd\n",
    "import numpy as np\n",
    "from scipy.stats import pearsonr\n",
    "from sklearn.preprocessing import StandardScaler\n",
    "from sklearn.svm import SVR\n",
    "from nltk.metrics.distance import jaccard_distance\n",
    "from collections import Iterable"
   ]
  },
  {
   "cell_type": "code",
   "execution_count": null,
   "metadata": {},
   "outputs": [],
   "source": [
    "from data_utils import load_data\n",
    "from dimension.lexical import *\n",
    "from dimension.semantical import *"
   ]
  },
  {
   "cell_type": "markdown",
   "metadata": {},
   "source": [
    "***\n",
    "## Data"
   ]
  },
  {
   "cell_type": "code",
   "execution_count": null,
   "metadata": {},
   "outputs": [],
   "source": [
    "train_data, test_data = load_data('data/')\n",
    "print(f\"train_data samples: {len(train_data)}, test_data samples: {len(test_data)}\")"
   ]
  },
  {
   "cell_type": "code",
   "execution_count": null,
   "metadata": {},
   "outputs": [],
   "source": [
    "train_data.head()"
   ]
  },
  {
   "cell_type": "code",
   "execution_count": null,
   "metadata": {},
   "outputs": [],
   "source": [
    "test_data.head()"
   ]
  },
  {
   "source": [
    "***\n",
    "## Similarity functions"
   ],
   "cell_type": "markdown",
   "metadata": {}
  },
  {
   "cell_type": "code",
   "execution_count": null,
   "metadata": {},
   "outputs": [],
   "source": [
    "def jaccard_similarity(s1, s2):\n",
    "    assert isinstance(s1, Iterable), f\"s1 must be an iterable, not {type(s1)}\"\n",
    "    assert isinstance(s2, Iterable), f\"s2 must be an iterable, not {type(s2)}\"\n",
    "    return 1 - jaccard_distance(set(s1), set(s2))"
   ]
  },
  {
   "cell_type": "code",
   "execution_count": null,
   "metadata": {},
   "outputs": [],
   "source": [
    "def overlap_similarity(s1, s2):\n",
    "    assert isinstance(s1, Iterable), f\"s1 must be an iterable, not {type(s1)}\"\n",
    "    assert isinstance(s2, Iterable), f\"s2 must be an iterable, not {type(s2)}\"\n",
    "    s1 = set(s1)\n",
    "    s2 = set(s2)\n",
    "    intersection = s1.intersection(s2)\n",
    "    return len(intersection) / min(len(s1), len(s2))"
   ]
  },
  {
   "cell_type": "code",
   "execution_count": null,
   "metadata": {},
   "outputs": [],
   "source": [
    "def cosine_similarity(s1, s2):\n",
    "    assert isinstance(s1, Iterable), f\"s1 must be an iterable, not {type(s1)}\"\n",
    "    assert isinstance(s2, Iterable), f\"s2 must be an iterable, not {type(s2)}\"\n",
    "    s1 = set(s1)\n",
    "    s2 = set(s2)\n",
    "    intersection = s1.intersection(s2)\n",
    "    return len(intersection) / ((len(s1) * len(s2)) ** 2)"
   ]
  },
  {
   "cell_type": "code",
   "execution_count": null,
   "metadata": {},
   "outputs": [],
   "source": [
    "def dice_similarity(s1, s2):\n",
    "    assert isinstance(s1, Iterable), f\"s1 must be an iterable, not {type(s1)}\"\n",
    "    assert isinstance(s2, Iterable), f\"s2 must be an iterable, not {type(s2)}\"\n",
    "    s1 = set(s1)\n",
    "    s2 = set(s2)\n",
    "    intersection = s1.intersection(s2)\n",
    "    return 2*len(intersection) / (len(s1) + len(s2))"
   ]
  },
  {
   "cell_type": "markdown",
   "metadata": {},
   "source": [
    "***\n",
    "## Feature loading"
   ]
  },
  {
   "cell_type": "markdown",
   "metadata": {},
   "source": [
    "### feature vector builder for dataframe of sentence pairs\n",
    "\n",
    "Declaration of the function responsible for the iteration over the dataframe containing the sentence pairs (other columns shall be unused). Requires the sentences columns' to be named `\"S1\"` and `\"S2\"`.\n",
    "\n",
    "Returns a numpy array of shape `(n_sentence_pairs, n_features)`"
   ]
  },
  {
   "cell_type": "code",
   "execution_count": null,
   "metadata": {},
   "outputs": [],
   "source": [
    "def get_features(df:pd.DataFrame):\n",
    "    assert \"S1\" in df.columns, \"S1 not in dataframe\"\n",
    "    assert \"S2\" in df.columns, \"S2 not in dataframe\"\n",
    "\n",
    "    features = [None]*len(df) # preallocated for memory efficiency\n",
    "\n",
    "    for index, row in df.iterrows():\n",
    "        sentence1, sentence2 = row['S1'], row['S2']\n",
    "        \n",
    "        # Get all words\n",
    "        tokenized_1, tokenized_2 = get_tokenized_sentences(sentence1, sentence2, return_unique_words=False)\n",
    "        tokenized_lc_1, tokenized_lc_2 = get_tokenized_sentences_lowercase(tokenized_1, tokenized_2, return_unique_words=False)\n",
    "\n",
    "        # Get words without stopwords\n",
    "        no_stopwords_1, no_stopwords_2 = get_tokenized_without_stopwords(tokenized_1, tokenized_2, return_unique_words=False)\n",
    "        no_stopwords_lc_1, no_stopwords_lc_2 = get_tokenized_without_stopwords(tokenized_lc_1, tokenized_lc_2, return_unique_words=False)\n",
    "        \n",
    "        # Lemmas\n",
    "        lemmatized_1, lemmatized_2 = get_lemmas(tokenized_1, tokenized_2, return_unique_words=False)\n",
    "        lemmatized_lc_1, lemmatized_lc_2 = get_lemmas(tokenized_lc_1, tokenized_lc_2, return_unique_words=False)        \n",
    "        \n",
    "        # Name entities\n",
    "        sentence_ne_1, sentence_ne_2 = get_named_entities(tokenized_1, tokenized_2)\n",
    "        \n",
    "        # Bigrams\n",
    "        bigrams_1, bigrams_2 = get_ngrams(no_stopwords_1, no_stopwords_2, n=2)\n",
    "        trigrams_1, trigrams_2 = get_ngrams(no_stopwords_1, no_stopwords_2, n=3)\n",
    "\n",
    "        # Features\n",
    "        features[index] = [\n",
    "            jaccard_similarity(tokenized_1, tokenized_2),\n",
    "            jaccard_similarity(tokenized_lc_1, tokenized_lc_2),\n",
    "            jaccard_similarity(no_stopwords_1, no_stopwords_2),\n",
    "            jaccard_similarity(no_stopwords_lc_1, no_stopwords_lc_2),\n",
    "            jaccard_similarity(lemmatized_1, lemmatized_2),\n",
    "            jaccard_similarity(lemmatized_lc_1, lemmatized_lc_2),\n",
    "            jaccard_similarity(sentence_ne_1, sentence_ne_2),\n",
    "            # jaccard_similarity(bigrams_1, bigrams_2),\n",
    "            # jaccard_similarity(trigrams_1, trigrams_2),\n",
    "        ]\n",
    "    return np.array(features)"
   ]
  },
  {
   "cell_type": "code",
   "execution_count": null,
   "metadata": {},
   "outputs": [],
   "source": [
    "# TEST cell don't delete it =D\n",
    "\n",
    "first = \"My Bonnie White lies over the ocean, in Picadilli Circus at 3:00pm.\"\n",
    "second = \"My Bonnie lied over the sea! Over the sea...\"\n",
    "\n",
    "tokenized_1, tokenized_2 = get_tokenized_sentences(first, second, return_unique_words=False)\n",
    "tokenized_lc_1, tokenized_lc_2 = get_tokenized_sentences_lowercase(tokenized_1, tokenized_2, return_unique_words=False)\n",
    "\n",
    "print(get_lemmas(tokenized_1, tokenized_2))\n",
    "print(get_lemmas(tokenized_lc_1, tokenized_lc_2))\n",
    "\n",
    "#TEST cell"
   ]
  },
  {
   "cell_type": "markdown",
   "metadata": {},
   "source": [
    "### Train features extraction\n",
    "\n",
    "Using the function declared above, the features are extracted from the `train_data` dataframe. Also the Gold Standard is extracted from its column in the dataframe. The shapes for both numpy vectors are displayed. "
   ]
  },
  {
   "cell_type": "code",
   "execution_count": null,
   "metadata": {},
   "outputs": [],
   "source": [
    "train_features = get_features(train_data)\n",
    "train_gs = train_data['Gs'].to_numpy()\n",
    "print(f\"train_features.shape: {train_features.shape}\")\n",
    "print(f\"train_gs.shape: {train_gs.shape}\")"
   ]
  },
  {
   "cell_type": "markdown",
   "metadata": {},
   "source": [
    "### Feature scaling\n",
    "\n",
    "features are scaled using sklearns StandardScaler, where the mean is substracted for each feature and it's divided by the variance of the feature to obtain a unified feature space with zero mean and unit variance."
   ]
  },
  {
   "cell_type": "code",
   "execution_count": null,
   "metadata": {},
   "outputs": [],
   "source": [
    "scaler = StandardScaler()\n",
    "scaler.fit(train_features)\n",
    "train_features_scaled = scaler.transform(train_features)"
   ]
  },
  {
   "cell_type": "markdown",
   "metadata": {},
   "source": [
    "### SVM Training"
   ]
  },
  {
   "cell_type": "code",
   "execution_count": null,
   "metadata": {},
   "outputs": [],
   "source": [
    "svr = SVR(kernel = 'rbf', gamma = 0.01, C = 100, epsilon = 0.75, tol = 1)\n",
    "svr.fit(train_features_scaled, train_gs)"
   ]
  },
  {
   "source": [
    "### Test features extraction"
   ],
   "cell_type": "markdown",
   "metadata": {}
  },
  {
   "cell_type": "code",
   "execution_count": null,
   "metadata": {},
   "outputs": [],
   "source": [
    "test_features = get_features(test_data)\n",
    "test_gs = test_data['Gs'].to_numpy()\n",
    "print(f\"train_features.shape: {test_features.shape}\")\n",
    "print(f\"train_gs.shape: {test_gs.shape}\")"
   ]
  },
  {
   "source": [
    "### Test Inference"
   ],
   "cell_type": "markdown",
   "metadata": {}
  },
  {
   "cell_type": "code",
   "execution_count": null,
   "metadata": {},
   "outputs": [],
   "source": [
    "predictions = svr.predict(test_features)"
   ]
  },
  {
   "source": [
    "### Evaluation metrics"
   ],
   "cell_type": "markdown",
   "metadata": {}
  },
  {
   "cell_type": "code",
   "execution_count": null,
   "metadata": {},
   "outputs": [],
   "source": [
    "correlation = pearsonr(predictions, test_gs)[0]"
   ]
  },
  {
   "cell_type": "code",
   "execution_count": null,
   "metadata": {},
   "outputs": [],
   "source": [
    "print(f\"Correlation = {correlation}\")"
   ]
  }
 ],
 "metadata": {
  "kernelspec": {
   "display_name": "Python 3",
   "language": "python",
   "name": "python3"
  },
  "language_info": {
   "codemirror_mode": {
    "name": "ipython",
    "version": 3
   },
   "file_extension": ".py",
   "mimetype": "text/x-python",
   "name": "python",
   "nbconvert_exporter": "python",
   "pygments_lexer": "ipython3",
   "version": "3.7.9-final"
  }
 },
 "nbformat": 4,
 "nbformat_minor": 2
}