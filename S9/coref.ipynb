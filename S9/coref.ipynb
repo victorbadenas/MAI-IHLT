{
 "cells": [
  {
   "cell_type": "markdown",
   "metadata": {},
   "source": [
    "## Coreference"
   ]
  },
  {
   "cell_type": "code",
   "execution_count": 1,
   "metadata": {},
   "outputs": [],
   "source": [
    "def show(d):\n",
    "    crs = d['corefs']\n",
    "    for k, num in zip(crs, range(1, len(crs) + 1)):\n",
    "        print('Chain', num, ':')\n",
    "        l = crs[k]\n",
    "        for e in l:\n",
    "            print('\\t',e['text'],e['gender'], e['number'],e['isRepresentativeMention'],e['type'])"
   ]
  },
  {
   "cell_type": "code",
   "execution_count": 2,
   "metadata": {},
   "outputs": [],
   "source": [
    "from nltk.parse import CoreNLPParser\n",
    "tagger = CoreNLPParser(url='http://localhost:9000')\n",
    "tagger.parser_annotator='tokenize,ssplit,pos,lemma,ner,depparse,coref'"
   ]
  },
  {
   "cell_type": "code",
   "execution_count": 3,
   "metadata": {},
   "outputs": [
    {
     "name": "stdout",
     "output_type": "stream",
     "text": [
      "Chain 1 :\n",
      "\t Barack Obama MALE SINGULAR True PROPER\n",
      "\t He MALE SINGULAR False PRONOMINAL\n",
      "\t Obama MALE SINGULAR False PROPER\n"
     ]
    }
   ],
   "source": [
    "text = \"Barack Obama was born in Hawaii.  He is the president. Obama was elected in 2008.\"\n",
    "res = tagger.api_call(text)\n",
    "show(res)"
   ]
  },
  {
   "cell_type": "code",
   "execution_count": 4,
   "metadata": {},
   "outputs": [
    {
     "name": "stdout",
     "output_type": "stream",
     "text": [
      "Chain 1 :\n",
      "\t He MALE SINGULAR False PRONOMINAL\n",
      "\t Barack Obama MALE SINGULAR True PROPER\n",
      "\t He MALE SINGULAR False PRONOMINAL\n"
     ]
    }
   ],
   "source": [
    "text = \"He is the president. Barack Obama was born in Hawaii. He was elected in 2008.\"\n",
    "res2 = tagger.api_call(text)\n",
    "show(res2)"
   ]
  },
  {
   "cell_type": "code",
   "execution_count": 5,
   "metadata": {},
   "outputs": [
    {
     "name": "stdout",
     "output_type": "stream",
     "text": [
      "Chain 1 :\n",
      "\t Michelle FEMALE SINGULAR True PROPER\n",
      "\t his MALE SINGULAR False PRONOMINAL\n",
      "\t He MALE SINGULAR False PRONOMINAL\n"
     ]
    }
   ],
   "source": [
    "text = \"Barack Obama was born in Hawaii. Michelle is his wife. He was elected in 2008.\"\n",
    "res3 = tagger.api_call(text)\n",
    "show(res3)"
   ]
  },
  {
   "cell_type": "code",
   "execution_count": 6,
   "metadata": {},
   "outputs": [
    {
     "data": {
      "text/plain": [
       "dict"
      ]
     },
     "execution_count": 6,
     "metadata": {},
     "output_type": "execute_result"
    }
   ],
   "source": [
    "type(res)"
   ]
  },
  {
   "cell_type": "code",
   "execution_count": 7,
   "metadata": {},
   "outputs": [
    {
     "data": {
      "text/plain": [
       "dict_keys(['sentences', 'corefs'])"
      ]
     },
     "execution_count": 7,
     "metadata": {},
     "output_type": "execute_result"
    }
   ],
   "source": [
    "res.keys()"
   ]
  },
  {
   "cell_type": "code",
   "execution_count": 8,
   "metadata": {},
   "outputs": [
    {
     "data": {
      "text/plain": [
       "{'3': [{'id': 0,\n",
       "   'text': 'Barack Obama',\n",
       "   'type': 'PROPER',\n",
       "   'number': 'SINGULAR',\n",
       "   'gender': 'MALE',\n",
       "   'animacy': 'ANIMATE',\n",
       "   'startIndex': 1,\n",
       "   'endIndex': 3,\n",
       "   'headIndex': 2,\n",
       "   'sentNum': 1,\n",
       "   'position': [1, 1],\n",
       "   'isRepresentativeMention': True},\n",
       "  {'id': 3,\n",
       "   'text': 'He',\n",
       "   'type': 'PRONOMINAL',\n",
       "   'number': 'SINGULAR',\n",
       "   'gender': 'MALE',\n",
       "   'animacy': 'ANIMATE',\n",
       "   'startIndex': 1,\n",
       "   'endIndex': 2,\n",
       "   'headIndex': 1,\n",
       "   'sentNum': 2,\n",
       "   'position': [2, 2],\n",
       "   'isRepresentativeMention': False},\n",
       "  {'id': 4,\n",
       "   'text': 'Obama',\n",
       "   'type': 'PROPER',\n",
       "   'number': 'SINGULAR',\n",
       "   'gender': 'MALE',\n",
       "   'animacy': 'ANIMATE',\n",
       "   'startIndex': 1,\n",
       "   'endIndex': 2,\n",
       "   'headIndex': 1,\n",
       "   'sentNum': 3,\n",
       "   'position': [3, 1],\n",
       "   'isRepresentativeMention': False}]}"
      ]
     },
     "execution_count": 8,
     "metadata": {},
     "output_type": "execute_result"
    }
   ],
   "source": [
    "res['corefs']"
   ]
  }
 ],
 "metadata": {
  "kernelspec": {
   "display_name": "Python 3",
   "language": "python",
   "name": "python3"
  },
  "language_info": {
   "codemirror_mode": {
    "name": "ipython",
    "version": 3
   },
   "file_extension": ".py",
   "mimetype": "text/x-python",
   "name": "python",
   "nbconvert_exporter": "python",
   "pygments_lexer": "ipython3",
   "version": "3.6.9"
  }
 },
 "nbformat": 4,
 "nbformat_minor": 2
}
