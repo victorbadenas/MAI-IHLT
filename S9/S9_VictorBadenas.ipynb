{
 "cells": [
  {
   "cell_type": "markdown",
   "metadata": {},
   "source": [
    "# Lab 9: Coreference\n",
    "## Introduction to Human Language Technologies\n",
    "### Victor Badenas Crespo\n",
    "\n",
    "***"
   ]
  },
  {
   "cell_type": "markdown",
   "metadata": {},
   "source": [
    "## Statement:\n",
    "\n",
    "- Consider the first paragraph in Alice’s Adventures in Wonderland, by Lewis Carroll:\n",
    "```\n",
    "Alice was beginning to get very tired of sitting by her sister on the bank, \n",
    "and of having nothing to do: once or twice she had peeped into the book her \n",
    "sister was reading, but it had no pictures or conversations in it, ‘and what \n",
    "is the use of a book,’ thought Alice ‘without pictures or conversations?’\n",
    "```\n",
    "- It can be downloaded from: http://www.gutenberg.org/files/11/11-0.txt\n",
    "- Apply the CoreNLP coreference solver to the previous paragraph\n",
    "- Show the coreference chains.\n",
    "- What do you think about them? Justify your answer."
   ]
  },
  {
   "cell_type": "markdown",
   "metadata": {},
   "source": [
    "***\n",
    "\n",
    "## Solution"
   ]
  },
  {
   "cell_type": "code",
   "execution_count": 1,
   "metadata": {},
   "outputs": [],
   "source": [
    "import nltk\n",
    "from nltk.parse import CoreNLPParser\n",
    "tagger = CoreNLPParser(url='http://localhost:9000')\n",
    "tagger.parser_annotator='tokenize,ssplit,pos,lemma,ner,depparse,coref'\n",
    "\n",
    "sentence = \"Alice was beginning to get very tired of sitting by her sister on the bank, and of having nothing to do: once or twice she had peeped into the book her sister was reading, but it had no pictures or conversations in it, ‘and what is the use of a book,’ thought Alice ‘without pictures or conversations?’\""
   ]
  },
  {
   "cell_type": "code",
   "execution_count": 2,
   "metadata": {},
   "outputs": [],
   "source": [
    "def show(d):\n",
    "    crs = d['corefs']\n",
    "    for k, num in zip(crs, range(1, len(crs) + 1)):\n",
    "        print('Chain', num, ':')\n",
    "        l = crs[k]\n",
    "        for e in l:\n",
    "            print('\\t',e['text'],e['gender'], e['number'],e['isRepresentativeMention'],e['type'])"
   ]
  },
  {
   "cell_type": "code",
   "execution_count": 3,
   "metadata": {},
   "outputs": [
    {
     "output_type": "stream",
     "name": "stdout",
     "text": [
      "Chain 1 :\n\t Alice FEMALE SINGULAR False PROPER\n\t her FEMALE SINGULAR False PRONOMINAL\n\t she FEMALE SINGULAR False PRONOMINAL\n\t her FEMALE SINGULAR False PRONOMINAL\n\t Alice ‘ without pictures or conversations FEMALE SINGULAR True PROPER\nChain 2 :\n\t it NEUTRAL SINGULAR True PRONOMINAL\n\t it NEUTRAL SINGULAR False PRONOMINAL\n"
     ]
    }
   ],
   "source": [
    "res = tagger.api_call(sentence)\n",
    "show(res)"
   ]
  },
  {
   "cell_type": "markdown",
   "metadata": {},
   "source": [
    "***\n",
    "## Conclusion\n",
    "\n",
    "Both chanes are instances of anaphoras, where the mention makes reference to a previously mentioned noun.\n",
    "\n",
    "The coreNLP coref parser is able to correcly detect the chain and the proper noun that the pronominal tokens make reference to in the Alice chain. However, the chain of books and it is not quite well analyzed as it is unable to identify that both it make reference to book. However he is capable of determining that they make reference to each other."
   ]
  },
  {
   "cell_type": "markdown",
   "metadata": {},
   "source": [
    "***"
   ]
  }
 ],
 "metadata": {
  "kernelspec": {
   "name": "python3",
   "display_name": "Python 3.7.9 64-bit ('IHLT3.7': conda)",
   "metadata": {
    "interpreter": {
     "hash": "d95a5ba215b5c0d3c5562e0f5b2730844d9eca1086482e66ee8573214ced8df7"
    }
   }
  },
  "language_info": {
   "codemirror_mode": {
    "name": "ipython",
    "version": 3
   },
   "file_extension": ".py",
   "mimetype": "text/x-python",
   "name": "python",
   "nbconvert_exporter": "python",
   "pygments_lexer": "ipython3",
   "version": "3.7.9-final"
  },
  "varInspector": {
   "cols": {
    "lenName": 16,
    "lenType": 16,
    "lenVar": 40
   },
   "kernels_config": {
    "python": {
     "delete_cmd_postfix": "",
     "delete_cmd_prefix": "del ",
     "library": "var_list.py",
     "varRefreshCmd": "print(var_dic_list())"
    },
    "r": {
     "delete_cmd_postfix": ") ",
     "delete_cmd_prefix": "rm(",
     "library": "var_list.r",
     "varRefreshCmd": "cat(var_dic_list()) "
    }
   },
   "types_to_exclude": [
    "module",
    "function",
    "builtin_function_or_method",
    "instance",
    "_Feature"
   ],
   "window_display": false
  }
 },
 "nbformat": 4,
 "nbformat_minor": 2
}