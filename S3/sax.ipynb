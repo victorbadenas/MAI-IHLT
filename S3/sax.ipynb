{
 "cells": [
  {
   "cell_type": "markdown",
   "metadata": {},
   "source": [
    "## sax example"
   ]
  },
  {
   "cell_type": "code",
   "execution_count": 1,
   "metadata": {},
   "outputs": [
    {
     "data": {
      "text/plain": [
       "(0.8917, 'GBP')"
      ]
     },
     "execution_count": 1,
     "metadata": {},
     "output_type": "execute_result"
    }
   ],
   "source": [
    "import xml.sax\n",
    "\n",
    "class ChgHandler(xml.sax.ContentHandler):\n",
    "    cnt = 1\n",
    "    mn = (1.0, 'EUR')\n",
    "    \n",
    "    def startElement(self, name, attrs):\n",
    "        if name == \"Cube\":\n",
    "            if 'rate' in attrs.keys():\n",
    "                # print(attrs.getValue('currency'), attrs.getValue('rate'))\n",
    "                ChgHandler.cnt += 1\n",
    "                ChgHandler.mn = min(ChgHandler.mn,\n",
    "                                    (float(attrs.getValue('rate')),\n",
    "                                     attrs.getValue('currency'))) \n",
    "            \n",
    "            \n",
    "url = 'http://www.ecb.europa.eu/stats/eurofxref/eurofxref-daily.xml'\n",
    "\n",
    "parser = xml.sax.make_parser()\n",
    "parser.setContentHandler(ChgHandler())\n",
    "parser.parse(url)\n",
    "\n",
    "ChgHandler.mn"
   ]
  }
 ],
 "metadata": {
  "kernelspec": {
   "display_name": "Python 3",
   "language": "python",
   "name": "python3"
  },
  "language_info": {
   "codemirror_mode": {
    "name": "ipython",
    "version": 3
   },
   "file_extension": ".py",
   "mimetype": "text/x-python",
   "name": "python",
   "nbconvert_exporter": "python",
   "pygments_lexer": "ipython3",
   "version": "3.5.2"
  }
 },
 "nbformat": 4,
 "nbformat_minor": 2
}
