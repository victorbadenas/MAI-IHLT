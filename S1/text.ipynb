{
 "cells": [
  {
   "cell_type": "markdown",
   "metadata": {},
   "source": [
    "## Class Text"
   ]
  },
  {
   "cell_type": "code",
   "execution_count": 1,
   "metadata": {},
   "outputs": [],
   "source": [
    "from nltk.corpus import gutenberg\n",
    "from nltk.text import Text\n",
    "crp = Text(gutenberg.words('blake-poems.txt'))"
   ]
  },
  {
   "cell_type": "code",
   "execution_count": 2,
   "metadata": {},
   "outputs": [
    {
     "data": {
      "text/plain": [
       "15"
      ]
     },
     "execution_count": 2,
     "metadata": {},
     "output_type": "execute_result"
    }
   ],
   "source": [
    "# counting words\n",
    "crp.count('love')"
   ]
  },
  {
   "cell_type": "code",
   "execution_count": 3,
   "metadata": {},
   "outputs": [
    {
     "data": {
      "text/plain": [
       "13"
      ]
     },
     "execution_count": 3,
     "metadata": {},
     "output_type": "execute_result"
    }
   ],
   "source": [
    "crp.count('Love')"
   ]
  },
  {
   "cell_type": "code",
   "execution_count": 4,
   "metadata": {},
   "outputs": [
    {
     "name": "stdout",
     "output_type": "stream",
     "text": [
      "Displaying 25 of 29 matches:\n",
      "at we may learn to bear the beams of love And these black bodies and this sunb\n",
      "ing , ' Come out from the grove , my love and care And round my golden tent li\n",
      ", And be like him , and he will then love me . THE BLOSSOM Merry , merry sparr\n",
      " IMAGE To Mercy , Pity , Peace , and Love , All pray in their distress , And t\n",
      "ess . For Mercy , Pity , Peace , and Love , Is God our Father dear ; And Mercy\n",
      "ear ; And Mercy , Pity , Peace , and Love , Is man , his child and care . For \n",
      "uman heart Pity , a human face ; And Love , the human form divine ; And Peace \n",
      "s , Prays to the human form divine : Love , Mercy , Pity , Peace . And all mus\n",
      " Mercy , Pity , Peace . And all must love the human form , In heathen , Turk ,\n",
      "then , Turk , or Jew . Where Mercy , Love , and Pity dwell , There God is dwel\n",
      "sh , vain , Eternal bane , That free love with bondage bound .\" THE CLOD AND T\n",
      "e bound .\" THE CLOD AND THE PEBBLE \" Love seeketh not itself to please , Nor f\n",
      "ok Warbled out these metres meet : \" Love seeketh only Self to please , To bin\n",
      "Of crimson joy , And his dark secret love Does thy life destroy . THE FLY Litt\n",
      "horn : While the Lily white shall in love delight , Nor a thorn nor a threat s\n",
      "in her beauty bright . THE GARDEN OF LOVE I laid me down upon a bank , Where L\n",
      "E I laid me down upon a bank , Where Love lay sleeping ; I heard among the rus\n",
      "the chaste . I went to the Garden of Love , And saw what I never had seen ; A \n",
      " door ; So I turned to the Garden of Love That so many sweet flowers bore . An\n",
      "to know . \" And , father , how can I love you Or any of my brothers more ? I l\n",
      "e you Or any of my brothers more ? I love you like the little bird That picks \n",
      "nt page , Know that in a former time Love , sweet love , was thought a crime .\n",
      "w that in a former time Love , sweet love , was thought a crime . In the age o\n",
      " of my hoary hair !\" THE SCHOOLBOY I love to rise on a summer morn , When bird\n",
      "n Wisdom be put in a silver rod ? Or Love in a golden bowl ? THE BOOK of THEL \n"
     ]
    }
   ],
   "source": [
    "# consulting context in a corpus\n",
    "crp.concordance('love')"
   ]
  },
  {
   "cell_type": "code",
   "execution_count": 5,
   "metadata": {},
   "outputs": [
    {
     "name": "stdout",
     "output_type": "stream",
     "text": [
      "went youth desires compelled say nuts pointed none by thrush earth\n",
      "turned ease all see there sight innocence him pitying\n"
     ]
    }
   ],
   "source": [
    "# words in the same context\n",
    "crp.similar('love')"
   ]
  },
  {
   "cell_type": "code",
   "execution_count": 6,
   "metadata": {},
   "outputs": [
    {
     "name": "stdout",
     "output_type": "stream",
     "text": [
      "No common contexts were found\n"
     ]
    }
   ],
   "source": [
    "# words in both context\n",
    "crp.common_contexts(['love', 'laugh'])"
   ]
  },
  {
   "cell_type": "code",
   "execution_count": 8,
   "metadata": {},
   "outputs": [
    {
     "data": {
      "image/png": "[encoded data removed]",
      "text/plain": [
       "<matplotlib.figure.Figure at 0x7efbbc862cf8>"
      ]
     },
     "metadata": {},
     "output_type": "display_data"
    }
   ],
   "source": [
    "# dispersion plot\n",
    "crp.dispersion_plot(['love','laugh'])"
   ]
  }
 ],
 "metadata": {
  "kernelspec": {
   "display_name": "Python 3",
   "language": "python",
   "name": "python3"
  },
  "language_info": {
   "codemirror_mode": {
    "name": "ipython",
    "version": 3
   },
   "file_extension": ".py",
   "mimetype": "text/x-python",
   "name": "python",
   "nbconvert_exporter": "python",
   "pygments_lexer": "ipython3",
   "version": "3.5.2"
  }
 },
 "nbformat": 4,
 "nbformat_minor": 2
}
