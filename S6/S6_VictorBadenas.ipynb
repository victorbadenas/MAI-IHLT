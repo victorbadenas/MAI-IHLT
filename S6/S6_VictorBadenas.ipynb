{
 "metadata": {
  "language_info": {
   "codemirror_mode": {
    "name": "ipython",
    "version": 3
   },
   "file_extension": ".py",
   "mimetype": "text/x-python",
   "name": "python",
   "nbconvert_exporter": "python",
   "pygments_lexer": "ipython3",
   "version": "3.7.9-final"
  },
  "orig_nbformat": 2,
  "kernelspec": {
   "name": "Python 3.7.9 64-bit ('IHLT3.7': conda)",
   "display_name": "Python 3.7.9 64-bit ('IHLT3.7': conda)",
   "metadata": {
    "interpreter": {
     "hash": "589da564c3c34ee97637a5e347a7928039a22cef64d507784db9da12a80e8881"
    }
   }
  }
 },
 "nbformat": 4,
 "nbformat_minor": 2,
 "cells": [
  {
   "source": [
    "# Lab.5: Lexical semantics\n",
    "## Introduction to Human Language Technologies\n",
    "### Victor Badenas Crespo\n",
    "\n",
    "***"
   ],
   "cell_type": "markdown",
   "metadata": {}
  },
  {
   "source": [
    "### Statement\n",
    "\n",
    "- Read all pairs of sentences of the trial set within the evaluation framework of the project.\n",
    "- Apply Lesk’s algorithm to the words in the sentences.\n",
    "- Compute their similarities by considering senses and Jaccard coefficient.\n",
    "- Compare the results with those in session 2 (document) and 3 (morphology) in which words and lemmas were considered.\n",
    "- Compare the results with gold standard by giving the pearson correlation between them."
   ],
   "cell_type": "markdown",
   "metadata": {}
  },
  {
   "source": [
    "***\n",
    "\n",
    "## Solution"
   ],
   "cell_type": "markdown",
   "metadata": {}
  },
  {
   "source": [
    "# core imports\n",
    "from pprint import pprint\n",
    "from pathlib import Path\n",
    "from collections import Counter\n",
    "\n",
    "# scipy imports\n",
    "from scipy.stats import pearsonr\n",
    "\n",
    "# nltk imports\n",
    "import nltk\n",
    "from nltk.metrics import jaccard_distance\n",
    "from nltk.corpus import wordnet as wn\n",
    "from nltk.wsd import lesk\n",
    "\n",
    "# nltk downloads\n",
    "nltk.download('punkt')\n",
    "nltk.download('wordnet')\n",
    "\n",
    "# constants definition\n",
    "DATA_FOLDER = Path('./trial')"
   ],
   "cell_type": "code",
   "metadata": {},
   "execution_count": 1,
   "outputs": [
    {
     "output_type": "stream",
     "name": "stderr",
     "text": [
      "[nltk_data] Downloading package punkt to\n[nltk_data]     C:\\Users\\victo\\AppData\\Roaming\\nltk_data...\n[nltk_data]   Package punkt is already up-to-date!\n[nltk_data] Downloading package wordnet to\n[nltk_data]     C:\\Users\\victo\\AppData\\Roaming\\nltk_data...\n[nltk_data]   Package wordnet is already up-to-date!\n"
     ]
    }
   ]
  },
  {
   "source": [
    "First functions for reading and structuring the data are declared, then the input data is read which has multiple lines containing \\[id, sentence1, sentence2\\]. The Gold standard info is also read. Then the inputText is formatted into a dict object with the following format for readability:\n",
    "\n",
    "```json\n",
    "{\n",
    "    \"id\": <id_string>,\n",
    "    \"sent1\": <sentence_string>,\n",
    "    \"sent2\": <sentence_string>\n",
    "}\n",
    "```"
   ],
   "cell_type": "markdown",
   "metadata": {}
  },
  {
   "cell_type": "code",
   "execution_count": 2,
   "metadata": {},
   "outputs": [
    {
     "output_type": "stream",
     "name": "stdout",
     "text": [
      "[{'id': 'id1',\n  'sent1': 'The bird is bathing in the sink.',\n  'sent2': 'Birdie is washing itself in the water basin.'},\n {'id': 'id2',\n  'sent1': 'In May 2010, the troops attempted to invade Kabul.',\n  'sent2': 'The US army invaded Kabul on May 7th last year, 2010.'},\n {'id': 'id3',\n  'sent1': 'John said he is considered a witness but not a suspect.',\n  'sent2': '\"He is not a suspect anymore.\" John said.'},\n {'id': 'id4',\n  'sent1': 'They flew out of the nest in groups.',\n  'sent2': 'They flew into the nest together.'},\n {'id': 'id5',\n  'sent1': 'The woman is playing the violin.',\n  'sent2': 'The young lady enjoys listening to the guitar.'},\n {'id': 'id6',\n  'sent1': 'John went horse back riding at dawn with a whole group of friends.',\n  'sent2': 'Sunrise at dawn is a magnificent view to take in if you wake up '\n           'early enough for it.'}]\n"
     ]
    }
   ],
   "source": [
    "def readFile(filePath):\n",
    "    \"\"\"\n",
    "    reads and returns a list of lists containing the text split by line \n",
    "    jumps and by tab characters\n",
    "    \"\"\"\n",
    "    with open(filePath, 'r') as fileHandler:\n",
    "        data = fileHandler.readlines()\n",
    "    \n",
    "    # split every line by tabs\n",
    "    data = list(map(lambda x: x.strip().split('\\t'), data))\n",
    "    return data\n",
    "\n",
    "def toDict(line):\n",
    "    \"\"\"\n",
    "    creates a dict with fields id sent1 sent2 from the values in line\n",
    "    \"\"\"\n",
    "    keys = (\"id\", \"sent1\", \"sent2\")\n",
    "    return dict(zip(keys, line))\n",
    "\n",
    "# read file data\n",
    "inputText = readFile(DATA_FOLDER / 'STS.input.txt')\n",
    "gsText = readFile(DATA_FOLDER / 'STS.gs.txt')\n",
    "\n",
    "# convert to previously defined dict structure\n",
    "inputText = list(map(toDict, inputText))\n",
    "pprint(inputText)"
   ]
  },
  {
   "cell_type": "code",
   "execution_count": 5,
   "metadata": {},
   "outputs": [],
   "source": [
    "for sentence in inputText:\n",
    "    id, sent1, sent2 = sentence[\"id\"], sentence[\"sent1\"], sentence[\"sent2\"]\n",
    "    sent1 = nltk.word_tokenize(sent1)\n",
    "    sent2 = nltk.word_tokenize(sent2)\n",
    "    contextSentences1 = list(map(lambda word: lesk(sent1, word), sent1))\n",
    "    contextSentences2 = list(map(lambda word: lesk(sent1, word), sent2))\n",
    "    contextSentences1 = list(filter(lambda i: i is not None, contextSentences1))\n",
    "    contextSentences2 = list(filter(lambda i: i is not None, contextSentences2))\n",
    "    contextSentences1 = list(map(lambda i: i.definition(), contextSentences1))    \n",
    "    contextSentences2 = list(map(lambda i: i.definition(), contextSentences2))\n",
    "\n",
    "    sentence[\"contextSentences1\"] = contextSentences1\n",
    "    sentence[\"contextSentences2\"] = contextSentences2"
   ]
  },
  {
   "cell_type": "code",
   "execution_count": 6,
   "metadata": {},
   "outputs": [
    {
     "output_type": "stream",
     "name": "stdout",
     "text": [
      "[{'contextSentences1': ['the flesh of a bird or fowl (wild or domestic) used '\n                        'as food',\n                        'to remain unmolested, undisturbed, or uninterrupted '\n                        '-- used only in infinitive form',\n                        'immersing the body in water or sunshine',\n                        'a rare soft silvery metallic element; occurs in small '\n                        'quantities in sphalerite',\n                        'a depression in the ground communicating with a '\n                        'subterranean passage (especially in limestone) and '\n                        'formed by solution or by collapse of a cavern roof'],\n  'contextSentences2': ['shoot in one stroke under par',\n                        'to remain unmolested, undisturbed, or uninterrupted '\n                        '-- used only in infinitive form',\n                        'remove by the application of water or other liquid '\n                        'and soap or some other cleaning agent',\n                        'a rare soft silvery metallic element; occurs in small '\n                        'quantities in sphalerite',\n                        'a liquid necessary for the life of most animals and '\n                        'plants',\n                        'a bathroom sink that is permanently installed and '\n                        'connected to a water supply and drainpipe; where you '\n                        'can wash your hands and face'],\n  'id': 'id1',\n  'sent1': 'The bird is bathing in the sink.',\n  'sent2': 'Birdie is washing itself in the water basin.'},\n {'contextSentences1': ['to or toward the inside of',\n                        'thorny Eurasian shrub of small tree having dense '\n                        'clusters of white to scarlet flowers followed by deep '\n                        'red berries; established as an escape in eastern '\n                        'North America',\n                        'a cavalry unit corresponding to an infantry company',\n                        'enter upon an activity or enterprise',\n                        \"march aggressively into another's territory by \"\n                        'military force for the purposes of conquest and '\n                        'occupation',\n                        'the capital and largest city of Afghanistan; located '\n                        'in eastern Afghanistan'],\n  'contextSentences2': ['North American republic containing 50 states - 48 '\n                        'conterminous states in North America plus Alaska in '\n                        'northwest North America and the Hawaiian Islands in '\n                        'the Pacific Ocean; achieved independence in 1776',\n                        'the army of the United States of America; the agency '\n                        'that organizes and trains soldiers for land warfare',\n                        \"march aggressively into another's territory by \"\n                        'military force for the purposes of conquest and '\n                        'occupation',\n                        'the capital and largest city of Afghanistan; located '\n                        'in eastern Afghanistan',\n                        'in a state required for something to function or be '\n                        'effective',\n                        'thorny Eurasian shrub of small tree having dense '\n                        'clusters of white to scarlet flowers followed by deep '\n                        'red berries; established as an escape in eastern '\n                        'North America',\n                        'coming next after the sixth and just before the '\n                        'eighth in position',\n                        'continue to live through hardship or adversity',\n                        'the period of time that it takes for a planet (as, '\n                        'e.g., Earth or Mars) to make a complete revolution '\n                        'around the sun'],\n  'id': 'id2',\n  'sent1': 'In May 2010, the troops attempted to invade Kabul.',\n  'sent2': 'The US army invaded Kabul on May 7th last year, 2010.'},\n {'contextSentences1': [\"a prostitute's customer\",\n                        'express a supposition',\n                        'a very light colorless element that is one of the six '\n                        'inert gasses; the most difficult gas to liquefy; '\n                        'occurs in economically extractable amounts in certain '\n                        'natural gases (as those found in Texas and Kansas)',\n                        'represent, as of a character on stage',\n                        'look at carefully; study mentally',\n                        'one of the four nucleotides used in building DNA; all '\n                        'four nucleotides have a common phosphate group and a '\n                        'sugar (ribose)',\n                        'be a witness to',\n                        'and nothing more',\n                        'negation of a word or group of words',\n                        'one of the four nucleotides used in building DNA; all '\n                        'four nucleotides have a common phosphate group and a '\n                        'sugar (ribose)',\n                        'a person or institution against whom an action is '\n                        'brought in a court of law; the person being sued or '\n                        'accused'],\n  'contextSentences2': ['a very light colorless element that is one of the six '\n                        'inert gasses; the most difficult gas to liquefy; '\n                        'occurs in economically extractable amounts in certain '\n                        'natural gases (as those found in Texas and Kansas)',\n                        'represent, as of a character on stage',\n                        'negation of a word or group of words',\n                        'one of the four nucleotides used in building DNA; all '\n                        'four nucleotides have a common phosphate group and a '\n                        'sugar (ribose)',\n                        'a person or institution against whom an action is '\n                        'brought in a court of law; the person being sued or '\n                        'accused',\n                        'at the present or from now on; usually used with a '\n                        'negative',\n                        \"a prostitute's customer\",\n                        'express a supposition'],\n  'id': 'id3',\n  'sent1': 'John said he is considered a witness but not a suspect.',\n  'sent2': '\"He is not a suspect anymore.\" John said.'},\n {'contextSentences1': ['travel over (an area of land or sea) in an aircraft',\n                        'out of power; especially having been unsuccessful in '\n                        'an election',\n                        'a gang of people (criminals or spies or terrorists) '\n                        'assembled in one locality',\n                        'to or toward the inside of',\n                        'arrange into a group or groups'],\n  'contextSentences2': ['travel over (an area of land or sea) in an aircraft',\n                        'a gang of people (criminals or spies or terrorists) '\n                        'assembled in one locality',\n                        'at the same time'],\n  'id': 'id4',\n  'sent1': 'They flew out of the nest in groups.',\n  'sent2': 'They flew into the nest together.'},\n {'contextSentences1': ['a female person who plays a significant role (wife or '\n                        'mistress or girlfriend) in the life of a particular '\n                        'man',\n                        'have the quality of being; (copula, used with an '\n                        'adjective or a predicate noun)',\n                        'the act of playing a musical instrument',\n                        'bowed stringed instrument that is the highest member '\n                        'of the violin family; this instrument has four '\n                        'strings and a hollow body and an unfretted '\n                        'fingerboard and is played with a bow'],\n  'contextSentences2': ['United States religious leader of the Mormon Church '\n                        'after the assassination of Joseph Smith; he led the '\n                        'Mormon exodus from Illinois to Salt Lake City, Utah '\n                        '(1801-1877)',\n                        'a woman of the peerage in Britain',\n                        'get pleasure from',\n                        'the act of hearing attentively',\n                        'a stringed instrument usually having six strings; '\n                        'played by strumming or plucking'],\n  'id': 'id5',\n  'sent1': 'The woman is playing the violin.',\n  'sent2': 'The young lady enjoys listening to the guitar.'},\n {'contextSentences1': ['a room or building equipped with one or more toilets',\n                        'give support (to) or make a choice (of) one out of a '\n                        'group or number',\n                        'provide with a horse or horses',\n                        'strengthen by providing with a back or backing',\n                        'the sport of siting on the back of a horse while '\n                        'controlling its movements',\n                        'a highly unstable radioactive element (the heaviest '\n                        'of the halogen series); a decay product of uranium '\n                        'and thorium',\n                        'the first light of day',\n                        'one of the four nucleotides used in building DNA; all '\n                        'four nucleotides have a common phosphate group and a '\n                        'sugar (ribose)',\n                        'an assemblage of parts that is regarded as a single '\n                        'entity',\n                        'form a group or group together',\n                        'a member of the Religious Society of Friends founded '\n                        'by George Fox (the Friends have never called '\n                        'themselves Quakers)'],\n  'contextSentences2': ['of an industry or technology; new and developing',\n                        'a highly unstable radioactive element (the heaviest '\n                        'of the halogen series); a decay product of uranium '\n                        'and thorium',\n                        'the first light of day',\n                        'have the quality of being; (copula, used with an '\n                        'adjective or a predicate noun)',\n                        'one of the four nucleotides used in building DNA; all '\n                        'four nucleotides have a common phosphate group and a '\n                        'sugar (ribose)',\n                        'characterized by grandeur',\n                        'a message expressing a belief about something; the '\n                        'expression of a belief that is held with confidence '\n                        'but not substantiated by positive knowledge or proof',\n                        'to get into a position of having, e.g., safety, '\n                        'comfort',\n                        'a unit of length equal to one twelfth of a foot',\n                        'the consequences of an event (especially a '\n                        'catastrophic event)',\n                        '(used of computers) operating properly',\n                        'at or near the beginning of a period of time or '\n                        'course of events or before the usual or expected time',\n                        'an adequate quantity; a quantity that is large enough '\n                        'to achieve a purpose',\n                        'the branch of engineering that deals with the use of '\n                        'computers and telecommunications to retrieve and '\n                        'store and transmit information'],\n  'id': 'id6',\n  'sent1': 'John went horse back riding at dawn with a whole group of friends.',\n  'sent2': 'Sunrise at dawn is a magnificent view to take in if you wake up '\n           'early enough for it.'}]\n"
     ]
    }
   ],
   "source": [
    "pprint(inputText)"
   ]
  },
  {
   "cell_type": "code",
   "execution_count": 18,
   "metadata": {},
   "outputs": [],
   "source": [
    "def computeSimilarity(sentenceDict):\n",
    "    context1 = ' '.join(sentenceDict[\"contextSentences1\"])\n",
    "    context2 = ' '.join(sentenceDict[\"contextSentences2\"])\n",
    "    context1 = set(nltk.word_tokenize(context1, language='english'))\n",
    "    context2 = set(nltk.word_tokenize(context2, language='english'))\n",
    "    return jaccard_distance(context1, context2)"
   ]
  },
  {
   "cell_type": "code",
   "execution_count": 19,
   "metadata": {},
   "outputs": [],
   "source": [
    "testDistances = list(map(computeSimilarity, inputText))"
   ]
  },
  {
   "cell_type": "code",
   "execution_count": 21,
   "metadata": {},
   "outputs": [
    {
     "output_type": "stream",
     "name": "stdout",
     "text": [
      "pearsonr([0.0, 0.2, 0.4, 0.6, 0.8, 1.0], [0.67, 0.61, 0.16, 0.45, 0.84, 0.73]) = 0.28131541901748136\n"
     ]
    }
   ],
   "source": [
    "refDistances = [float(value)/(len(gsText)-1) for _, value in gsText]\n",
    "\n",
    "pcorr = pearsonr(refDistances, testDistances)[0]\n",
    "\n",
    "# formatting for purely demonstrative purposes\n",
    "print(f\"pearsonr({list(map(lambda x:float('%.2f' % x), refDistances))}, {list(map(lambda x:float('%.2f' % x), testDistances))}) = {pcorr}\")"
   ]
  },
  {
   "source": [
    "*** \n",
    "\n",
    "## Conlusion"
   ],
   "cell_type": "markdown",
   "metadata": {}
  },
  {
   "source": [
    "**placeholder**"
   ],
   "cell_type": "markdown",
   "metadata": {}
  },
  {
   "source": [
    "***\n",
    "\n",
    "### End of P4"
   ],
   "cell_type": "markdown",
   "metadata": {}
  }
 ]
}